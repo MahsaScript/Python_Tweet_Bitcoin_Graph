{
  "nbformat": 4,
  "nbformat_minor": 0,
  "metadata": {
    "colab": {
      "provenance": []
    },
    "kernelspec": {
      "name": "python3",
      "display_name": "Python 3"
    },
    "language_info": {
      "name": "python"
    },
    "accelerator": "GPU"
  },
  "cells": [
    {
      "cell_type": "markdown",
      "source": [
        "#Practice 1: Request to address (Kaggle for tweet and bitcoin)"
      ],
      "metadata": {
        "id": "LAX99NVXWxFE"
      }
    },
    {
      "cell_type": "code",
      "execution_count": null,
      "metadata": {
        "colab": {
          "base_uri": "https://localhost:8080/"
        },
        "id": "nCTa5NRPKYBX",
        "outputId": "e119f2b6-4222-42d8-af56-e68e09bae52b"
      },
      "outputs": [
        {
          "output_type": "stream",
          "name": "stdout",
          "text": [
            "Requirement already satisfied: kaggle in /usr/local/lib/python3.7/dist-packages (1.5.12)\n",
            "Requirement already satisfied: certifi in /usr/local/lib/python3.7/dist-packages (from kaggle) (2021.10.8)\n",
            "Requirement already satisfied: python-dateutil in /usr/local/lib/python3.7/dist-packages (from kaggle) (2.8.2)\n",
            "Requirement already satisfied: requests in /usr/local/lib/python3.7/dist-packages (from kaggle) (2.23.0)\n",
            "Requirement already satisfied: urllib3 in /usr/local/lib/python3.7/dist-packages (from kaggle) (1.24.3)\n",
            "Requirement already satisfied: six>=1.10 in /usr/local/lib/python3.7/dist-packages (from kaggle) (1.15.0)\n",
            "Requirement already satisfied: tqdm in /usr/local/lib/python3.7/dist-packages (from kaggle) (4.62.3)\n",
            "Requirement already satisfied: python-slugify in /usr/local/lib/python3.7/dist-packages (from kaggle) (5.0.2)\n",
            "Requirement already satisfied: text-unidecode>=1.3 in /usr/local/lib/python3.7/dist-packages (from python-slugify->kaggle) (1.3)\n",
            "Requirement already satisfied: chardet<4,>=3.0.2 in /usr/local/lib/python3.7/dist-packages (from requests->kaggle) (3.0.4)\n",
            "Requirement already satisfied: idna<3,>=2.5 in /usr/local/lib/python3.7/dist-packages (from requests->kaggle) (2.10)\n"
          ]
        }
      ],
      "source": [
        "!pip install kaggle"
      ]
    },
    {
      "cell_type": "markdown",
      "source": [
        "###kaggle datasets download -d [DATASET] -> bitcoin-tweets -> https://www.kaggle.com/kaushiksuresh147/bitcoin-tweets"
      ],
      "metadata": {
        "id": "nnBHEIaDXm-O"
      }
    },
    {
      "cell_type": "code",
      "source": [
        "!kaggle datasets download -d bitcoin-tweets"
      ],
      "metadata": {
        "colab": {
          "base_uri": "https://localhost:8080/"
        },
        "id": "daT3nhYDWzd8",
        "outputId": "7a887d1d-2049-4618-f34b-f5a1fe42fcf9"
      },
      "execution_count": null,
      "outputs": [
        {
          "output_type": "stream",
          "name": "stdout",
          "text": [
            "Traceback (most recent call last):\n",
            "  File \"/usr/local/bin/kaggle\", line 5, in <module>\n",
            "    from kaggle.cli import main\n",
            "  File \"/usr/local/lib/python2.7/dist-packages/kaggle/__init__.py\", line 23, in <module>\n",
            "    api.authenticate()\n",
            "  File \"/usr/local/lib/python2.7/dist-packages/kaggle/api/kaggle_api_extended.py\", line 146, in authenticate\n",
            "    self.config_file, self.config_dir))\n",
            "IOError: Could not find kaggle.json. Make sure it's located in /root/.kaggle. Or use the environment method.\n"
          ]
        }
      ]
    },
    {
      "cell_type": "code",
      "source": [
        "import requests\n",
        "import json\n",
        "import matplotlib.pyplot as plt\n",
        "import pandas as pd"
      ],
      "metadata": {
        "id": "6k8L5XhEY8hI"
      },
      "execution_count": null,
      "outputs": []
    },
    {
      "cell_type": "code",
      "source": [
        "def scrap(url):\n",
        "  r = requests.get(url)\n",
        "  t = r.text\n",
        "  pyjs = json.loads(t)\n",
        "  return pyjs"
      ],
      "metadata": {
        "id": "KTlNkF3nZK8E"
      },
      "execution_count": null,
      "outputs": []
    },
    {
      "cell_type": "code",
      "source": [
        "url = 'https://www.kaggle.com/kaushiksuresh147/bitcoin-tweets'\n",
        "response = requests.get(url)\n",
        "results = json.loads(response.text)"
      ],
      "metadata": {
        "id": "QS-BXJDGp1DM"
      },
      "execution_count": null,
      "outputs": []
    },
    {
      "cell_type": "markdown",
      "source": [
        "##Count Number of Tweets for each Date and Density"
      ],
      "metadata": {
        "id": "BXk7XcvSZycf"
      }
    },
    {
      "cell_type": "code",
      "source": [
        "df_tweet = pd.read_csv(\"date_tweet_2.csv\")\n",
        "df_tweet = df_tweet.groupby(df_tweet.columns.tolist(),as_index=False).size()\n",
        "df_tweet.to_csv('df_tweet.csv')\n",
        "print('Density: ', df_tweet['size'].max())\n",
        "\n",
        "df_tweet"
      ],
      "metadata": {
        "colab": {
          "base_uri": "https://localhost:8080/",
          "height": 442
        },
        "id": "MMXr-s5zZ1hL",
        "outputId": "bfff1143-1e1d-4e37-b21f-656e3eb2beed"
      },
      "execution_count": null,
      "outputs": [
        {
          "output_type": "stream",
          "name": "stdout",
          "text": [
            "Density:  53501\n"
          ]
        },
        {
          "output_type": "execute_result",
          "data": {
            "text/html": [
              "\n",
              "  <div id=\"df-4ffa5715-3bc1-40f1-855e-43324aa788ab\">\n",
              "    <div class=\"colab-df-container\">\n",
              "      <div>\n",
              "<style scoped>\n",
              "    .dataframe tbody tr th:only-of-type {\n",
              "        vertical-align: middle;\n",
              "    }\n",
              "\n",
              "    .dataframe tbody tr th {\n",
              "        vertical-align: top;\n",
              "    }\n",
              "\n",
              "    .dataframe thead th {\n",
              "        text-align: right;\n",
              "    }\n",
              "</style>\n",
              "<table border=\"1\" class=\"dataframe\">\n",
              "  <thead>\n",
              "    <tr style=\"text-align: right;\">\n",
              "      <th></th>\n",
              "      <th>tweet_date</th>\n",
              "      <th>size</th>\n",
              "    </tr>\n",
              "  </thead>\n",
              "  <tbody>\n",
              "    <tr>\n",
              "      <th>0</th>\n",
              "      <td>2/10/2021</td>\n",
              "      <td>3526</td>\n",
              "    </tr>\n",
              "    <tr>\n",
              "      <th>1</th>\n",
              "      <td>2/13/2021</td>\n",
              "      <td>2285</td>\n",
              "    </tr>\n",
              "    <tr>\n",
              "      <th>2</th>\n",
              "      <td>2/14/2021</td>\n",
              "      <td>4009</td>\n",
              "    </tr>\n",
              "    <tr>\n",
              "      <th>3</th>\n",
              "      <td>2/15/2021</td>\n",
              "      <td>4651</td>\n",
              "    </tr>\n",
              "    <tr>\n",
              "      <th>4</th>\n",
              "      <td>2/18/2021</td>\n",
              "      <td>2254</td>\n",
              "    </tr>\n",
              "    <tr>\n",
              "      <th>...</th>\n",
              "      <td>...</td>\n",
              "      <td>...</td>\n",
              "    </tr>\n",
              "    <tr>\n",
              "      <th>72</th>\n",
              "      <td>8/9/2021</td>\n",
              "      <td>53501</td>\n",
              "    </tr>\n",
              "    <tr>\n",
              "      <th>73</th>\n",
              "      <td>['ETH', 'BTC', 'Bitcoin']</td>\n",
              "      <td>1</td>\n",
              "    </tr>\n",
              "    <tr>\n",
              "      <th>74</th>\n",
              "      <td>['YieldFarming', 'Airdrop', 'Binance', 'Bitcoi...</td>\n",
              "      <td>1</td>\n",
              "    </tr>\n",
              "    <tr>\n",
              "      <th>75</th>\n",
              "      <td>['btc']</td>\n",
              "      <td>2</td>\n",
              "    </tr>\n",
              "    <tr>\n",
              "      <th>76</th>\n",
              "      <td>['cryptocurrency', 'BSC', 'Bitcoin', 'Ethereum...</td>\n",
              "      <td>1</td>\n",
              "    </tr>\n",
              "  </tbody>\n",
              "</table>\n",
              "<p>77 rows × 2 columns</p>\n",
              "</div>\n",
              "      <button class=\"colab-df-convert\" onclick=\"convertToInteractive('df-4ffa5715-3bc1-40f1-855e-43324aa788ab')\"\n",
              "              title=\"Convert this dataframe to an interactive table.\"\n",
              "              style=\"display:none;\">\n",
              "        \n",
              "  <svg xmlns=\"http://www.w3.org/2000/svg\" height=\"24px\"viewBox=\"0 0 24 24\"\n",
              "       width=\"24px\">\n",
              "    <path d=\"M0 0h24v24H0V0z\" fill=\"none\"/>\n",
              "    <path d=\"M18.56 5.44l.94 2.06.94-2.06 2.06-.94-2.06-.94-.94-2.06-.94 2.06-2.06.94zm-11 1L8.5 8.5l.94-2.06 2.06-.94-2.06-.94L8.5 2.5l-.94 2.06-2.06.94zm10 10l.94 2.06.94-2.06 2.06-.94-2.06-.94-.94-2.06-.94 2.06-2.06.94z\"/><path d=\"M17.41 7.96l-1.37-1.37c-.4-.4-.92-.59-1.43-.59-.52 0-1.04.2-1.43.59L10.3 9.45l-7.72 7.72c-.78.78-.78 2.05 0 2.83L4 21.41c.39.39.9.59 1.41.59.51 0 1.02-.2 1.41-.59l7.78-7.78 2.81-2.81c.8-.78.8-2.07 0-2.86zM5.41 20L4 18.59l7.72-7.72 1.47 1.35L5.41 20z\"/>\n",
              "  </svg>\n",
              "      </button>\n",
              "      \n",
              "  <style>\n",
              "    .colab-df-container {\n",
              "      display:flex;\n",
              "      flex-wrap:wrap;\n",
              "      gap: 12px;\n",
              "    }\n",
              "\n",
              "    .colab-df-convert {\n",
              "      background-color: #E8F0FE;\n",
              "      border: none;\n",
              "      border-radius: 50%;\n",
              "      cursor: pointer;\n",
              "      display: none;\n",
              "      fill: #1967D2;\n",
              "      height: 32px;\n",
              "      padding: 0 0 0 0;\n",
              "      width: 32px;\n",
              "    }\n",
              "\n",
              "    .colab-df-convert:hover {\n",
              "      background-color: #E2EBFA;\n",
              "      box-shadow: 0px 1px 2px rgba(60, 64, 67, 0.3), 0px 1px 3px 1px rgba(60, 64, 67, 0.15);\n",
              "      fill: #174EA6;\n",
              "    }\n",
              "\n",
              "    [theme=dark] .colab-df-convert {\n",
              "      background-color: #3B4455;\n",
              "      fill: #D2E3FC;\n",
              "    }\n",
              "\n",
              "    [theme=dark] .colab-df-convert:hover {\n",
              "      background-color: #434B5C;\n",
              "      box-shadow: 0px 1px 3px 1px rgba(0, 0, 0, 0.15);\n",
              "      filter: drop-shadow(0px 1px 2px rgba(0, 0, 0, 0.3));\n",
              "      fill: #FFFFFF;\n",
              "    }\n",
              "  </style>\n",
              "\n",
              "      <script>\n",
              "        const buttonEl =\n",
              "          document.querySelector('#df-4ffa5715-3bc1-40f1-855e-43324aa788ab button.colab-df-convert');\n",
              "        buttonEl.style.display =\n",
              "          google.colab.kernel.accessAllowed ? 'block' : 'none';\n",
              "\n",
              "        async function convertToInteractive(key) {\n",
              "          const element = document.querySelector('#df-4ffa5715-3bc1-40f1-855e-43324aa788ab');\n",
              "          const dataTable =\n",
              "            await google.colab.kernel.invokeFunction('convertToInteractive',\n",
              "                                                     [key], {});\n",
              "          if (!dataTable) return;\n",
              "\n",
              "          const docLinkHtml = 'Like what you see? Visit the ' +\n",
              "            '<a target=\"_blank\" href=https://colab.research.google.com/notebooks/data_table.ipynb>data table notebook</a>'\n",
              "            + ' to learn more about interactive tables.';\n",
              "          element.innerHTML = '';\n",
              "          dataTable['output_type'] = 'display_data';\n",
              "          await google.colab.output.renderOutput(dataTable, element);\n",
              "          const docLink = document.createElement('div');\n",
              "          docLink.innerHTML = docLinkHtml;\n",
              "          element.appendChild(docLink);\n",
              "        }\n",
              "      </script>\n",
              "    </div>\n",
              "  </div>\n",
              "  "
            ],
            "text/plain": [
              "                                           tweet_date   size\n",
              "0                                           2/10/2021   3526\n",
              "1                                           2/13/2021   2285\n",
              "2                                           2/14/2021   4009\n",
              "3                                           2/15/2021   4651\n",
              "4                                           2/18/2021   2254\n",
              "..                                                ...    ...\n",
              "72                                           8/9/2021  53501\n",
              "73                          ['ETH', 'BTC', 'Bitcoin']      1\n",
              "74  ['YieldFarming', 'Airdrop', 'Binance', 'Bitcoi...      1\n",
              "75                                            ['btc']      2\n",
              "76  ['cryptocurrency', 'BSC', 'Bitcoin', 'Ethereum...      1\n",
              "\n",
              "[77 rows x 2 columns]"
            ]
          },
          "metadata": {},
          "execution_count": 13
        }
      ]
    },
    {
      "cell_type": "markdown",
      "source": [
        "#Practice 2: Find Relationship Between Two Nodes (Tweet Bitcoin)"
      ],
      "metadata": {
        "id": "LnL9oU2HkBR_"
      }
    },
    {
      "cell_type": "markdown",
      "source": [
        "##Get Bit Coin Date"
      ],
      "metadata": {
        "id": "RyOeJ4wrZ3XD"
      }
    },
    {
      "cell_type": "code",
      "source": [
        "import pandas as pd\n",
        "\n",
        "df_bitcoin = pd.read_csv(\"coin_Bitcoin.csv\")\n",
        "df_bitcoin['Date'] = pd.to_datetime(df_bitcoin['Date']).dt.date\n",
        "df_bitcoin.to_csv('df_bitcoin.csv')\n",
        "df_bitcoin"
      ],
      "metadata": {
        "colab": {
          "base_uri": "https://localhost:8080/",
          "height": 423
        },
        "id": "31ZHaAoPZ7TM",
        "outputId": "43130ea6-3c3d-4ee4-8975-1f3fbcc8830e"
      },
      "execution_count": null,
      "outputs": [
        {
          "output_type": "execute_result",
          "data": {
            "text/html": [
              "\n",
              "  <div id=\"df-f27418c8-f1ad-4e6e-bb5f-bfad68458ce3\">\n",
              "    <div class=\"colab-df-container\">\n",
              "      <div>\n",
              "<style scoped>\n",
              "    .dataframe tbody tr th:only-of-type {\n",
              "        vertical-align: middle;\n",
              "    }\n",
              "\n",
              "    .dataframe tbody tr th {\n",
              "        vertical-align: top;\n",
              "    }\n",
              "\n",
              "    .dataframe thead th {\n",
              "        text-align: right;\n",
              "    }\n",
              "</style>\n",
              "<table border=\"1\" class=\"dataframe\">\n",
              "  <thead>\n",
              "    <tr style=\"text-align: right;\">\n",
              "      <th></th>\n",
              "      <th>SNo</th>\n",
              "      <th>Name</th>\n",
              "      <th>Symbol</th>\n",
              "      <th>Date</th>\n",
              "      <th>High</th>\n",
              "      <th>Low</th>\n",
              "      <th>Open</th>\n",
              "      <th>Close</th>\n",
              "      <th>Volume</th>\n",
              "      <th>Marketcap</th>\n",
              "    </tr>\n",
              "  </thead>\n",
              "  <tbody>\n",
              "    <tr>\n",
              "      <th>0</th>\n",
              "      <td>1</td>\n",
              "      <td>Bitcoin</td>\n",
              "      <td>BTC</td>\n",
              "      <td>2013-04-29</td>\n",
              "      <td>147.488007</td>\n",
              "      <td>134.000000</td>\n",
              "      <td>134.444000</td>\n",
              "      <td>144.539993</td>\n",
              "      <td>0.000000e+00</td>\n",
              "      <td>1.603769e+09</td>\n",
              "    </tr>\n",
              "    <tr>\n",
              "      <th>1</th>\n",
              "      <td>2</td>\n",
              "      <td>Bitcoin</td>\n",
              "      <td>BTC</td>\n",
              "      <td>2013-04-30</td>\n",
              "      <td>146.929993</td>\n",
              "      <td>134.050003</td>\n",
              "      <td>144.000000</td>\n",
              "      <td>139.000000</td>\n",
              "      <td>0.000000e+00</td>\n",
              "      <td>1.542813e+09</td>\n",
              "    </tr>\n",
              "    <tr>\n",
              "      <th>2</th>\n",
              "      <td>3</td>\n",
              "      <td>Bitcoin</td>\n",
              "      <td>BTC</td>\n",
              "      <td>2013-05-01</td>\n",
              "      <td>139.889999</td>\n",
              "      <td>107.720001</td>\n",
              "      <td>139.000000</td>\n",
              "      <td>116.989998</td>\n",
              "      <td>0.000000e+00</td>\n",
              "      <td>1.298955e+09</td>\n",
              "    </tr>\n",
              "    <tr>\n",
              "      <th>3</th>\n",
              "      <td>4</td>\n",
              "      <td>Bitcoin</td>\n",
              "      <td>BTC</td>\n",
              "      <td>2013-05-02</td>\n",
              "      <td>125.599999</td>\n",
              "      <td>92.281898</td>\n",
              "      <td>116.379997</td>\n",
              "      <td>105.209999</td>\n",
              "      <td>0.000000e+00</td>\n",
              "      <td>1.168517e+09</td>\n",
              "    </tr>\n",
              "    <tr>\n",
              "      <th>4</th>\n",
              "      <td>5</td>\n",
              "      <td>Bitcoin</td>\n",
              "      <td>BTC</td>\n",
              "      <td>2013-05-03</td>\n",
              "      <td>108.127998</td>\n",
              "      <td>79.099998</td>\n",
              "      <td>106.250000</td>\n",
              "      <td>97.750000</td>\n",
              "      <td>0.000000e+00</td>\n",
              "      <td>1.085995e+09</td>\n",
              "    </tr>\n",
              "    <tr>\n",
              "      <th>...</th>\n",
              "      <td>...</td>\n",
              "      <td>...</td>\n",
              "      <td>...</td>\n",
              "      <td>...</td>\n",
              "      <td>...</td>\n",
              "      <td>...</td>\n",
              "      <td>...</td>\n",
              "      <td>...</td>\n",
              "      <td>...</td>\n",
              "      <td>...</td>\n",
              "    </tr>\n",
              "    <tr>\n",
              "      <th>2986</th>\n",
              "      <td>2987</td>\n",
              "      <td>Bitcoin</td>\n",
              "      <td>BTC</td>\n",
              "      <td>2021-07-02</td>\n",
              "      <td>33939.588700</td>\n",
              "      <td>32770.680780</td>\n",
              "      <td>33549.600180</td>\n",
              "      <td>33897.048590</td>\n",
              "      <td>3.872897e+10</td>\n",
              "      <td>6.350000e+11</td>\n",
              "    </tr>\n",
              "    <tr>\n",
              "      <th>2987</th>\n",
              "      <td>2988</td>\n",
              "      <td>Bitcoin</td>\n",
              "      <td>BTC</td>\n",
              "      <td>2021-07-03</td>\n",
              "      <td>34909.259900</td>\n",
              "      <td>33402.696540</td>\n",
              "      <td>33854.421360</td>\n",
              "      <td>34668.548400</td>\n",
              "      <td>2.438396e+10</td>\n",
              "      <td>6.500000e+11</td>\n",
              "    </tr>\n",
              "    <tr>\n",
              "      <th>2988</th>\n",
              "      <td>2989</td>\n",
              "      <td>Bitcoin</td>\n",
              "      <td>BTC</td>\n",
              "      <td>2021-07-04</td>\n",
              "      <td>35937.567150</td>\n",
              "      <td>34396.477460</td>\n",
              "      <td>34665.564870</td>\n",
              "      <td>35287.779770</td>\n",
              "      <td>2.492431e+10</td>\n",
              "      <td>6.620000e+11</td>\n",
              "    </tr>\n",
              "    <tr>\n",
              "      <th>2989</th>\n",
              "      <td>2990</td>\n",
              "      <td>Bitcoin</td>\n",
              "      <td>BTC</td>\n",
              "      <td>2021-07-05</td>\n",
              "      <td>35284.344430</td>\n",
              "      <td>33213.661030</td>\n",
              "      <td>35284.344430</td>\n",
              "      <td>33746.002460</td>\n",
              "      <td>2.672155e+10</td>\n",
              "      <td>6.330000e+11</td>\n",
              "    </tr>\n",
              "    <tr>\n",
              "      <th>2990</th>\n",
              "      <td>2991</td>\n",
              "      <td>Bitcoin</td>\n",
              "      <td>BTC</td>\n",
              "      <td>2021-07-06</td>\n",
              "      <td>35038.536360</td>\n",
              "      <td>33599.916170</td>\n",
              "      <td>33723.509660</td>\n",
              "      <td>34235.193450</td>\n",
              "      <td>2.650126e+10</td>\n",
              "      <td>6.420000e+11</td>\n",
              "    </tr>\n",
              "  </tbody>\n",
              "</table>\n",
              "<p>2991 rows × 10 columns</p>\n",
              "</div>\n",
              "      <button class=\"colab-df-convert\" onclick=\"convertToInteractive('df-f27418c8-f1ad-4e6e-bb5f-bfad68458ce3')\"\n",
              "              title=\"Convert this dataframe to an interactive table.\"\n",
              "              style=\"display:none;\">\n",
              "        \n",
              "  <svg xmlns=\"http://www.w3.org/2000/svg\" height=\"24px\"viewBox=\"0 0 24 24\"\n",
              "       width=\"24px\">\n",
              "    <path d=\"M0 0h24v24H0V0z\" fill=\"none\"/>\n",
              "    <path d=\"M18.56 5.44l.94 2.06.94-2.06 2.06-.94-2.06-.94-.94-2.06-.94 2.06-2.06.94zm-11 1L8.5 8.5l.94-2.06 2.06-.94-2.06-.94L8.5 2.5l-.94 2.06-2.06.94zm10 10l.94 2.06.94-2.06 2.06-.94-2.06-.94-.94-2.06-.94 2.06-2.06.94z\"/><path d=\"M17.41 7.96l-1.37-1.37c-.4-.4-.92-.59-1.43-.59-.52 0-1.04.2-1.43.59L10.3 9.45l-7.72 7.72c-.78.78-.78 2.05 0 2.83L4 21.41c.39.39.9.59 1.41.59.51 0 1.02-.2 1.41-.59l7.78-7.78 2.81-2.81c.8-.78.8-2.07 0-2.86zM5.41 20L4 18.59l7.72-7.72 1.47 1.35L5.41 20z\"/>\n",
              "  </svg>\n",
              "      </button>\n",
              "      \n",
              "  <style>\n",
              "    .colab-df-container {\n",
              "      display:flex;\n",
              "      flex-wrap:wrap;\n",
              "      gap: 12px;\n",
              "    }\n",
              "\n",
              "    .colab-df-convert {\n",
              "      background-color: #E8F0FE;\n",
              "      border: none;\n",
              "      border-radius: 50%;\n",
              "      cursor: pointer;\n",
              "      display: none;\n",
              "      fill: #1967D2;\n",
              "      height: 32px;\n",
              "      padding: 0 0 0 0;\n",
              "      width: 32px;\n",
              "    }\n",
              "\n",
              "    .colab-df-convert:hover {\n",
              "      background-color: #E2EBFA;\n",
              "      box-shadow: 0px 1px 2px rgba(60, 64, 67, 0.3), 0px 1px 3px 1px rgba(60, 64, 67, 0.15);\n",
              "      fill: #174EA6;\n",
              "    }\n",
              "\n",
              "    [theme=dark] .colab-df-convert {\n",
              "      background-color: #3B4455;\n",
              "      fill: #D2E3FC;\n",
              "    }\n",
              "\n",
              "    [theme=dark] .colab-df-convert:hover {\n",
              "      background-color: #434B5C;\n",
              "      box-shadow: 0px 1px 3px 1px rgba(0, 0, 0, 0.15);\n",
              "      filter: drop-shadow(0px 1px 2px rgba(0, 0, 0, 0.3));\n",
              "      fill: #FFFFFF;\n",
              "    }\n",
              "  </style>\n",
              "\n",
              "      <script>\n",
              "        const buttonEl =\n",
              "          document.querySelector('#df-f27418c8-f1ad-4e6e-bb5f-bfad68458ce3 button.colab-df-convert');\n",
              "        buttonEl.style.display =\n",
              "          google.colab.kernel.accessAllowed ? 'block' : 'none';\n",
              "\n",
              "        async function convertToInteractive(key) {\n",
              "          const element = document.querySelector('#df-f27418c8-f1ad-4e6e-bb5f-bfad68458ce3');\n",
              "          const dataTable =\n",
              "            await google.colab.kernel.invokeFunction('convertToInteractive',\n",
              "                                                     [key], {});\n",
              "          if (!dataTable) return;\n",
              "\n",
              "          const docLinkHtml = 'Like what you see? Visit the ' +\n",
              "            '<a target=\"_blank\" href=https://colab.research.google.com/notebooks/data_table.ipynb>data table notebook</a>'\n",
              "            + ' to learn more about interactive tables.';\n",
              "          element.innerHTML = '';\n",
              "          dataTable['output_type'] = 'display_data';\n",
              "          await google.colab.output.renderOutput(dataTable, element);\n",
              "          const docLink = document.createElement('div');\n",
              "          docLink.innerHTML = docLinkHtml;\n",
              "          element.appendChild(docLink);\n",
              "        }\n",
              "      </script>\n",
              "    </div>\n",
              "  </div>\n",
              "  "
            ],
            "text/plain": [
              "       SNo     Name Symbol  ...         Close        Volume     Marketcap\n",
              "0        1  Bitcoin    BTC  ...    144.539993  0.000000e+00  1.603769e+09\n",
              "1        2  Bitcoin    BTC  ...    139.000000  0.000000e+00  1.542813e+09\n",
              "2        3  Bitcoin    BTC  ...    116.989998  0.000000e+00  1.298955e+09\n",
              "3        4  Bitcoin    BTC  ...    105.209999  0.000000e+00  1.168517e+09\n",
              "4        5  Bitcoin    BTC  ...     97.750000  0.000000e+00  1.085995e+09\n",
              "...    ...      ...    ...  ...           ...           ...           ...\n",
              "2986  2987  Bitcoin    BTC  ...  33897.048590  3.872897e+10  6.350000e+11\n",
              "2987  2988  Bitcoin    BTC  ...  34668.548400  2.438396e+10  6.500000e+11\n",
              "2988  2989  Bitcoin    BTC  ...  35287.779770  2.492431e+10  6.620000e+11\n",
              "2989  2990  Bitcoin    BTC  ...  33746.002460  2.672155e+10  6.330000e+11\n",
              "2990  2991  Bitcoin    BTC  ...  34235.193450  2.650126e+10  6.420000e+11\n",
              "\n",
              "[2991 rows x 10 columns]"
            ]
          },
          "metadata": {},
          "execution_count": 11
        }
      ]
    },
    {
      "cell_type": "code",
      "source": [
        "df_bitcoin_date = pd.read_csv(\"df_bitcoin_date.csv\")\n",
        "df_bitcoin_date"
      ],
      "metadata": {
        "colab": {
          "base_uri": "https://localhost:8080/",
          "height": 467
        },
        "id": "mUAub9lRZ-rE",
        "outputId": "c7a6b6a2-d9a1-43d5-a3a9-095de41d6df0"
      },
      "execution_count": null,
      "outputs": [
        {
          "output_type": "execute_result",
          "data": {
            "text/html": [
              "\n",
              "  <div id=\"df-d2ceee7d-292a-4b71-8847-5763e3fa8bdd\">\n",
              "    <div class=\"colab-df-container\">\n",
              "      <div>\n",
              "<style scoped>\n",
              "    .dataframe tbody tr th:only-of-type {\n",
              "        vertical-align: middle;\n",
              "    }\n",
              "\n",
              "    .dataframe tbody tr th {\n",
              "        vertical-align: top;\n",
              "    }\n",
              "\n",
              "    .dataframe thead th {\n",
              "        text-align: right;\n",
              "    }\n",
              "</style>\n",
              "<table border=\"1\" class=\"dataframe\">\n",
              "  <thead>\n",
              "    <tr style=\"text-align: right;\">\n",
              "      <th></th>\n",
              "      <th>Unnamed: 0</th>\n",
              "      <th>SNo</th>\n",
              "      <th>Name</th>\n",
              "      <th>Symbol</th>\n",
              "      <th>Date</th>\n",
              "      <th>High</th>\n",
              "      <th>Low</th>\n",
              "      <th>Open</th>\n",
              "      <th>Close</th>\n",
              "      <th>Volume</th>\n",
              "      <th>Marketcap</th>\n",
              "    </tr>\n",
              "  </thead>\n",
              "  <tbody>\n",
              "    <tr>\n",
              "      <th>0</th>\n",
              "      <td>0</td>\n",
              "      <td>1</td>\n",
              "      <td>Bitcoin</td>\n",
              "      <td>BTC</td>\n",
              "      <td>4/29/2013</td>\n",
              "      <td>147.488007</td>\n",
              "      <td>134.000000</td>\n",
              "      <td>134.444000</td>\n",
              "      <td>144.539993</td>\n",
              "      <td>0.000000e+00</td>\n",
              "      <td>1.603769e+09</td>\n",
              "    </tr>\n",
              "    <tr>\n",
              "      <th>1</th>\n",
              "      <td>1</td>\n",
              "      <td>2</td>\n",
              "      <td>Bitcoin</td>\n",
              "      <td>BTC</td>\n",
              "      <td>4/30/2013</td>\n",
              "      <td>146.929993</td>\n",
              "      <td>134.050003</td>\n",
              "      <td>144.000000</td>\n",
              "      <td>139.000000</td>\n",
              "      <td>0.000000e+00</td>\n",
              "      <td>1.542813e+09</td>\n",
              "    </tr>\n",
              "    <tr>\n",
              "      <th>2</th>\n",
              "      <td>2</td>\n",
              "      <td>3</td>\n",
              "      <td>Bitcoin</td>\n",
              "      <td>BTC</td>\n",
              "      <td>5/1/2013</td>\n",
              "      <td>139.889999</td>\n",
              "      <td>107.720001</td>\n",
              "      <td>139.000000</td>\n",
              "      <td>116.989998</td>\n",
              "      <td>0.000000e+00</td>\n",
              "      <td>1.298955e+09</td>\n",
              "    </tr>\n",
              "    <tr>\n",
              "      <th>3</th>\n",
              "      <td>3</td>\n",
              "      <td>4</td>\n",
              "      <td>Bitcoin</td>\n",
              "      <td>BTC</td>\n",
              "      <td>5/2/2013</td>\n",
              "      <td>125.599999</td>\n",
              "      <td>92.281898</td>\n",
              "      <td>116.379997</td>\n",
              "      <td>105.209999</td>\n",
              "      <td>0.000000e+00</td>\n",
              "      <td>1.168517e+09</td>\n",
              "    </tr>\n",
              "    <tr>\n",
              "      <th>4</th>\n",
              "      <td>4</td>\n",
              "      <td>5</td>\n",
              "      <td>Bitcoin</td>\n",
              "      <td>BTC</td>\n",
              "      <td>5/3/2013</td>\n",
              "      <td>108.127998</td>\n",
              "      <td>79.099998</td>\n",
              "      <td>106.250000</td>\n",
              "      <td>97.750000</td>\n",
              "      <td>0.000000e+00</td>\n",
              "      <td>1.085995e+09</td>\n",
              "    </tr>\n",
              "    <tr>\n",
              "      <th>...</th>\n",
              "      <td>...</td>\n",
              "      <td>...</td>\n",
              "      <td>...</td>\n",
              "      <td>...</td>\n",
              "      <td>...</td>\n",
              "      <td>...</td>\n",
              "      <td>...</td>\n",
              "      <td>...</td>\n",
              "      <td>...</td>\n",
              "      <td>...</td>\n",
              "      <td>...</td>\n",
              "    </tr>\n",
              "    <tr>\n",
              "      <th>2986</th>\n",
              "      <td>2986</td>\n",
              "      <td>2987</td>\n",
              "      <td>Bitcoin</td>\n",
              "      <td>BTC</td>\n",
              "      <td>7/2/2021</td>\n",
              "      <td>33939.588700</td>\n",
              "      <td>32770.680780</td>\n",
              "      <td>33549.600180</td>\n",
              "      <td>33897.048590</td>\n",
              "      <td>3.872897e+10</td>\n",
              "      <td>6.350000e+11</td>\n",
              "    </tr>\n",
              "    <tr>\n",
              "      <th>2987</th>\n",
              "      <td>2987</td>\n",
              "      <td>2988</td>\n",
              "      <td>Bitcoin</td>\n",
              "      <td>BTC</td>\n",
              "      <td>7/3/2021</td>\n",
              "      <td>34909.259900</td>\n",
              "      <td>33402.696540</td>\n",
              "      <td>33854.421360</td>\n",
              "      <td>34668.548400</td>\n",
              "      <td>2.438396e+10</td>\n",
              "      <td>6.500000e+11</td>\n",
              "    </tr>\n",
              "    <tr>\n",
              "      <th>2988</th>\n",
              "      <td>2988</td>\n",
              "      <td>2989</td>\n",
              "      <td>Bitcoin</td>\n",
              "      <td>BTC</td>\n",
              "      <td>7/4/2021</td>\n",
              "      <td>35937.567150</td>\n",
              "      <td>34396.477460</td>\n",
              "      <td>34665.564870</td>\n",
              "      <td>35287.779770</td>\n",
              "      <td>2.492431e+10</td>\n",
              "      <td>6.620000e+11</td>\n",
              "    </tr>\n",
              "    <tr>\n",
              "      <th>2989</th>\n",
              "      <td>2989</td>\n",
              "      <td>2990</td>\n",
              "      <td>Bitcoin</td>\n",
              "      <td>BTC</td>\n",
              "      <td>7/5/2021</td>\n",
              "      <td>35284.344430</td>\n",
              "      <td>33213.661030</td>\n",
              "      <td>35284.344430</td>\n",
              "      <td>33746.002460</td>\n",
              "      <td>2.672155e+10</td>\n",
              "      <td>6.330000e+11</td>\n",
              "    </tr>\n",
              "    <tr>\n",
              "      <th>2990</th>\n",
              "      <td>2990</td>\n",
              "      <td>2991</td>\n",
              "      <td>Bitcoin</td>\n",
              "      <td>BTC</td>\n",
              "      <td>7/6/2021</td>\n",
              "      <td>35038.536360</td>\n",
              "      <td>33599.916170</td>\n",
              "      <td>33723.509660</td>\n",
              "      <td>34235.193450</td>\n",
              "      <td>2.650126e+10</td>\n",
              "      <td>6.420000e+11</td>\n",
              "    </tr>\n",
              "  </tbody>\n",
              "</table>\n",
              "<p>2991 rows × 11 columns</p>\n",
              "</div>\n",
              "      <button class=\"colab-df-convert\" onclick=\"convertToInteractive('df-d2ceee7d-292a-4b71-8847-5763e3fa8bdd')\"\n",
              "              title=\"Convert this dataframe to an interactive table.\"\n",
              "              style=\"display:none;\">\n",
              "        \n",
              "  <svg xmlns=\"http://www.w3.org/2000/svg\" height=\"24px\"viewBox=\"0 0 24 24\"\n",
              "       width=\"24px\">\n",
              "    <path d=\"M0 0h24v24H0V0z\" fill=\"none\"/>\n",
              "    <path d=\"M18.56 5.44l.94 2.06.94-2.06 2.06-.94-2.06-.94-.94-2.06-.94 2.06-2.06.94zm-11 1L8.5 8.5l.94-2.06 2.06-.94-2.06-.94L8.5 2.5l-.94 2.06-2.06.94zm10 10l.94 2.06.94-2.06 2.06-.94-2.06-.94-.94-2.06-.94 2.06-2.06.94z\"/><path d=\"M17.41 7.96l-1.37-1.37c-.4-.4-.92-.59-1.43-.59-.52 0-1.04.2-1.43.59L10.3 9.45l-7.72 7.72c-.78.78-.78 2.05 0 2.83L4 21.41c.39.39.9.59 1.41.59.51 0 1.02-.2 1.41-.59l7.78-7.78 2.81-2.81c.8-.78.8-2.07 0-2.86zM5.41 20L4 18.59l7.72-7.72 1.47 1.35L5.41 20z\"/>\n",
              "  </svg>\n",
              "      </button>\n",
              "      \n",
              "  <style>\n",
              "    .colab-df-container {\n",
              "      display:flex;\n",
              "      flex-wrap:wrap;\n",
              "      gap: 12px;\n",
              "    }\n",
              "\n",
              "    .colab-df-convert {\n",
              "      background-color: #E8F0FE;\n",
              "      border: none;\n",
              "      border-radius: 50%;\n",
              "      cursor: pointer;\n",
              "      display: none;\n",
              "      fill: #1967D2;\n",
              "      height: 32px;\n",
              "      padding: 0 0 0 0;\n",
              "      width: 32px;\n",
              "    }\n",
              "\n",
              "    .colab-df-convert:hover {\n",
              "      background-color: #E2EBFA;\n",
              "      box-shadow: 0px 1px 2px rgba(60, 64, 67, 0.3), 0px 1px 3px 1px rgba(60, 64, 67, 0.15);\n",
              "      fill: #174EA6;\n",
              "    }\n",
              "\n",
              "    [theme=dark] .colab-df-convert {\n",
              "      background-color: #3B4455;\n",
              "      fill: #D2E3FC;\n",
              "    }\n",
              "\n",
              "    [theme=dark] .colab-df-convert:hover {\n",
              "      background-color: #434B5C;\n",
              "      box-shadow: 0px 1px 3px 1px rgba(0, 0, 0, 0.15);\n",
              "      filter: drop-shadow(0px 1px 2px rgba(0, 0, 0, 0.3));\n",
              "      fill: #FFFFFF;\n",
              "    }\n",
              "  </style>\n",
              "\n",
              "      <script>\n",
              "        const buttonEl =\n",
              "          document.querySelector('#df-d2ceee7d-292a-4b71-8847-5763e3fa8bdd button.colab-df-convert');\n",
              "        buttonEl.style.display =\n",
              "          google.colab.kernel.accessAllowed ? 'block' : 'none';\n",
              "\n",
              "        async function convertToInteractive(key) {\n",
              "          const element = document.querySelector('#df-d2ceee7d-292a-4b71-8847-5763e3fa8bdd');\n",
              "          const dataTable =\n",
              "            await google.colab.kernel.invokeFunction('convertToInteractive',\n",
              "                                                     [key], {});\n",
              "          if (!dataTable) return;\n",
              "\n",
              "          const docLinkHtml = 'Like what you see? Visit the ' +\n",
              "            '<a target=\"_blank\" href=https://colab.research.google.com/notebooks/data_table.ipynb>data table notebook</a>'\n",
              "            + ' to learn more about interactive tables.';\n",
              "          element.innerHTML = '';\n",
              "          dataTable['output_type'] = 'display_data';\n",
              "          await google.colab.output.renderOutput(dataTable, element);\n",
              "          const docLink = document.createElement('div');\n",
              "          docLink.innerHTML = docLinkHtml;\n",
              "          element.appendChild(docLink);\n",
              "        }\n",
              "      </script>\n",
              "    </div>\n",
              "  </div>\n",
              "  "
            ],
            "text/plain": [
              "      Unnamed: 0   SNo     Name  ...         Close        Volume     Marketcap\n",
              "0              0     1  Bitcoin  ...    144.539993  0.000000e+00  1.603769e+09\n",
              "1              1     2  Bitcoin  ...    139.000000  0.000000e+00  1.542813e+09\n",
              "2              2     3  Bitcoin  ...    116.989998  0.000000e+00  1.298955e+09\n",
              "3              3     4  Bitcoin  ...    105.209999  0.000000e+00  1.168517e+09\n",
              "4              4     5  Bitcoin  ...     97.750000  0.000000e+00  1.085995e+09\n",
              "...          ...   ...      ...  ...           ...           ...           ...\n",
              "2986        2986  2987  Bitcoin  ...  33897.048590  3.872897e+10  6.350000e+11\n",
              "2987        2987  2988  Bitcoin  ...  34668.548400  2.438396e+10  6.500000e+11\n",
              "2988        2988  2989  Bitcoin  ...  35287.779770  2.492431e+10  6.620000e+11\n",
              "2989        2989  2990  Bitcoin  ...  33746.002460  2.672155e+10  6.330000e+11\n",
              "2990        2990  2991  Bitcoin  ...  34235.193450  2.650126e+10  6.420000e+11\n",
              "\n",
              "[2991 rows x 11 columns]"
            ]
          },
          "metadata": {},
          "execution_count": 3
        }
      ]
    },
    {
      "cell_type": "markdown",
      "source": [
        "##Merge"
      ],
      "metadata": {
        "id": "msn9LVD0aAZk"
      }
    },
    {
      "cell_type": "code",
      "source": [
        "import numpy as np\n",
        "new_bitcoin = []\n",
        "for index, row in df_bitcoin_date.iterrows():\n",
        "  for index2, row2 in df_tweet.iterrows():\n",
        "    if row['Date']==row2['tweet_date']:\n",
        "      new_bitcoin.append((row['Name'], row['Date'],row2['tweet_date'], row2['size'], row['Open'], row['Close']))\n",
        "      print(row['Name'], row['Date'],row2['tweet_date'], row2['size'], row['Open'], row['Close'])\n",
        "\n",
        "numpy_array = np.array(new_bitcoin)\n",
        "df_merge = pd.DataFrame(numpy_array, columns = [\"Name\", \"Bitcoin_Date\", \"tweet_date\", \"tweet_count\", \"Open\", \"Close\"])\n",
        "df_merge.to_csv('df_merge.csv')\n",
        "\n",
        "\n",
        "df_merge\n"
      ],
      "metadata": {
        "colab": {
          "base_uri": "https://localhost:8080/",
          "height": 1000
        },
        "id": "u5ufJf_-aCy0",
        "outputId": "d469a08b-c883-4c42-8546-101ae51884fe"
      },
      "execution_count": null,
      "outputs": [
        {
          "output_type": "stream",
          "name": "stdout",
          "text": [
            "Bitcoin 2/5/2021 2/5/2021 1694 36931.54565 38144.306860000004\n",
            "Bitcoin 2/6/2021 2/6/2021 3278 38138.38834 39266.01073\n",
            "Bitcoin 2/7/2021 2/7/2021 3030 39250.19051 38903.44148\n",
            "Bitcoin 2/8/2021 2/8/2021 5647 38886.82729 46196.46372\n",
            "Bitcoin 2/9/2021 2/9/2021 4350 46184.99147 46481.10424\n",
            "Bitcoin 2/10/2021 2/10/2021 3526 46469.7612 44918.18449\n",
            "Bitcoin 2/13/2021 2/13/2021 2285 47491.202560000005 47105.51747\n",
            "Bitcoin 2/14/2021 2/14/2021 4009 47114.509589999994 48717.29021\n",
            "Bitcoin 2/15/2021 2/15/2021 4651 48696.536660000005 47945.05683\n",
            "Bitcoin 2/18/2021 2/18/2021 2254 52140.97272 51679.796689999996\n",
            "Bitcoin 2/19/2021 2/19/2021 4521 51675.981289999996 55888.13367999999\n",
            "Bitcoin 2/22/2021 2/22/2021 3564 57532.738860000005 54207.319070000005\n",
            "Bitcoin 2/28/2021 2/28/2021 1634 46194.01635 45137.770469999996\n",
            "Bitcoin 3/11/2021 3/11/2021 217 55963.180089999994 57805.12302000001\n",
            "Bitcoin 3/12/2021 3/12/2021 3923 57821.21875 57332.08896\n",
            "Bitcoin 4/5/2021 4/5/2021 2197 58760.87326 59057.878970000005\n",
            "Bitcoin 4/6/2021 4/6/2021 3730 59171.93202000001 58192.35868\n",
            "Bitcoin 4/7/2021 4/7/2021 4039 58186.50852999999 56048.93781\n",
            "Bitcoin 4/8/2021 4/8/2021 3740 56099.91311 58323.953579999994\n",
            "Bitcoin 4/9/2021 4/9/2021 3475 58326.56362000001 58245.003\n",
            "Bitcoin 4/10/2021 4/10/2021 4011 58253.77681 59793.23541\n",
            "Bitcoin 4/11/2021 4/11/2021 2039 59846.230789999994 60204.96491\n",
            "Bitcoin 4/12/2021 4/12/2021 1926 60175.944760000006 59893.45189\n",
            "Bitcoin 4/17/2021 4/17/2021 333 61529.920999999995 60683.821229999994\n",
            "Bitcoin 4/18/2021 4/18/2021 4708 60701.88609 56216.185\n",
            "Bitcoin 4/19/2021 4/19/2021 4119 56191.58411 55724.2671\n",
            "Bitcoin 4/20/2021 4/20/2021 4388 55681.79251 56473.03227999999\n",
            "Bitcoin 4/21/2021 4/21/2021 4436 56471.127720000004 53906.08805\n",
            "Bitcoin 4/22/2021 4/22/2021 5102 53857.106889999995 51762.27205\n",
            "Bitcoin 4/23/2021 4/23/2021 5865 51739.80693 51093.65071\n",
            "Bitcoin 4/24/2021 4/24/2021 3952 51143.22627 50050.86822\n",
            "Bitcoin 5/25/2021 5/25/2021 2803 38795.78025 38402.22385\n",
            "Bitcoin 5/26/2021 5/26/2021 4898 38392.623660000005 39294.19738\n",
            "Bitcoin 5/27/2021 5/27/2021 4383 39316.88968 38436.968539999994\n",
            "Bitcoin 5/28/2021 5/28/2021 5189 38507.083080000004 35697.60639\n",
            "Bitcoin 5/29/2021 5/29/2021 4509 35684.15688 34616.068\n",
            "Bitcoin 6/20/2021 6/20/2021 8868 35563.13941 35698.29644\n",
            "Bitcoin 6/21/2021 6/21/2021 41729 35641.14606 31676.693730000003\n",
            "Bitcoin 6/22/2021 6/22/2021 45840 31622.377089999998 32505.659819999997\n",
            "Bitcoin 6/23/2021 6/23/2021 29358 32515.7143 33723.02898\n",
            "Bitcoin 7/2/2021 7/2/2021 17789 33549.60018 33897.04859\n",
            "Bitcoin 7/3/2021 7/3/2021 25430 33854.42136 34668.5484\n",
            "Bitcoin 7/4/2021 7/4/2021 23087 34665.56487 35287.77977\n",
            "Bitcoin 7/5/2021 7/5/2021 25981 35284.344430000005 33746.00246\n"
          ]
        },
        {
          "output_type": "execute_result",
          "data": {
            "text/html": [
              "\n",
              "  <div id=\"df-da237a3e-36fd-420a-bc7f-07fd22927385\">\n",
              "    <div class=\"colab-df-container\">\n",
              "      <div>\n",
              "<style scoped>\n",
              "    .dataframe tbody tr th:only-of-type {\n",
              "        vertical-align: middle;\n",
              "    }\n",
              "\n",
              "    .dataframe tbody tr th {\n",
              "        vertical-align: top;\n",
              "    }\n",
              "\n",
              "    .dataframe thead th {\n",
              "        text-align: right;\n",
              "    }\n",
              "</style>\n",
              "<table border=\"1\" class=\"dataframe\">\n",
              "  <thead>\n",
              "    <tr style=\"text-align: right;\">\n",
              "      <th></th>\n",
              "      <th>Name</th>\n",
              "      <th>Bitcoin_Date</th>\n",
              "      <th>tweet_date</th>\n",
              "      <th>tweet_count</th>\n",
              "      <th>Open</th>\n",
              "      <th>Close</th>\n",
              "    </tr>\n",
              "  </thead>\n",
              "  <tbody>\n",
              "    <tr>\n",
              "      <th>0</th>\n",
              "      <td>Bitcoin</td>\n",
              "      <td>2/5/2021</td>\n",
              "      <td>2/5/2021</td>\n",
              "      <td>1694</td>\n",
              "      <td>36931.54565</td>\n",
              "      <td>38144.306860000004</td>\n",
              "    </tr>\n",
              "    <tr>\n",
              "      <th>1</th>\n",
              "      <td>Bitcoin</td>\n",
              "      <td>2/6/2021</td>\n",
              "      <td>2/6/2021</td>\n",
              "      <td>3278</td>\n",
              "      <td>38138.38834</td>\n",
              "      <td>39266.01073</td>\n",
              "    </tr>\n",
              "    <tr>\n",
              "      <th>2</th>\n",
              "      <td>Bitcoin</td>\n",
              "      <td>2/7/2021</td>\n",
              "      <td>2/7/2021</td>\n",
              "      <td>3030</td>\n",
              "      <td>39250.19051</td>\n",
              "      <td>38903.44148</td>\n",
              "    </tr>\n",
              "    <tr>\n",
              "      <th>3</th>\n",
              "      <td>Bitcoin</td>\n",
              "      <td>2/8/2021</td>\n",
              "      <td>2/8/2021</td>\n",
              "      <td>5647</td>\n",
              "      <td>38886.82729</td>\n",
              "      <td>46196.46372</td>\n",
              "    </tr>\n",
              "    <tr>\n",
              "      <th>4</th>\n",
              "      <td>Bitcoin</td>\n",
              "      <td>2/9/2021</td>\n",
              "      <td>2/9/2021</td>\n",
              "      <td>4350</td>\n",
              "      <td>46184.99147</td>\n",
              "      <td>46481.10424</td>\n",
              "    </tr>\n",
              "    <tr>\n",
              "      <th>5</th>\n",
              "      <td>Bitcoin</td>\n",
              "      <td>2/10/2021</td>\n",
              "      <td>2/10/2021</td>\n",
              "      <td>3526</td>\n",
              "      <td>46469.7612</td>\n",
              "      <td>44918.18449</td>\n",
              "    </tr>\n",
              "    <tr>\n",
              "      <th>6</th>\n",
              "      <td>Bitcoin</td>\n",
              "      <td>2/13/2021</td>\n",
              "      <td>2/13/2021</td>\n",
              "      <td>2285</td>\n",
              "      <td>47491.202560000005</td>\n",
              "      <td>47105.51747</td>\n",
              "    </tr>\n",
              "    <tr>\n",
              "      <th>7</th>\n",
              "      <td>Bitcoin</td>\n",
              "      <td>2/14/2021</td>\n",
              "      <td>2/14/2021</td>\n",
              "      <td>4009</td>\n",
              "      <td>47114.509589999994</td>\n",
              "      <td>48717.29021</td>\n",
              "    </tr>\n",
              "    <tr>\n",
              "      <th>8</th>\n",
              "      <td>Bitcoin</td>\n",
              "      <td>2/15/2021</td>\n",
              "      <td>2/15/2021</td>\n",
              "      <td>4651</td>\n",
              "      <td>48696.536660000005</td>\n",
              "      <td>47945.05683</td>\n",
              "    </tr>\n",
              "    <tr>\n",
              "      <th>9</th>\n",
              "      <td>Bitcoin</td>\n",
              "      <td>2/18/2021</td>\n",
              "      <td>2/18/2021</td>\n",
              "      <td>2254</td>\n",
              "      <td>52140.97272</td>\n",
              "      <td>51679.796689999996</td>\n",
              "    </tr>\n",
              "    <tr>\n",
              "      <th>10</th>\n",
              "      <td>Bitcoin</td>\n",
              "      <td>2/19/2021</td>\n",
              "      <td>2/19/2021</td>\n",
              "      <td>4521</td>\n",
              "      <td>51675.981289999996</td>\n",
              "      <td>55888.13367999999</td>\n",
              "    </tr>\n",
              "    <tr>\n",
              "      <th>11</th>\n",
              "      <td>Bitcoin</td>\n",
              "      <td>2/22/2021</td>\n",
              "      <td>2/22/2021</td>\n",
              "      <td>3564</td>\n",
              "      <td>57532.738860000005</td>\n",
              "      <td>54207.319070000005</td>\n",
              "    </tr>\n",
              "    <tr>\n",
              "      <th>12</th>\n",
              "      <td>Bitcoin</td>\n",
              "      <td>2/28/2021</td>\n",
              "      <td>2/28/2021</td>\n",
              "      <td>1634</td>\n",
              "      <td>46194.01635</td>\n",
              "      <td>45137.770469999996</td>\n",
              "    </tr>\n",
              "    <tr>\n",
              "      <th>13</th>\n",
              "      <td>Bitcoin</td>\n",
              "      <td>3/11/2021</td>\n",
              "      <td>3/11/2021</td>\n",
              "      <td>217</td>\n",
              "      <td>55963.180089999994</td>\n",
              "      <td>57805.12302000001</td>\n",
              "    </tr>\n",
              "    <tr>\n",
              "      <th>14</th>\n",
              "      <td>Bitcoin</td>\n",
              "      <td>3/12/2021</td>\n",
              "      <td>3/12/2021</td>\n",
              "      <td>3923</td>\n",
              "      <td>57821.21875</td>\n",
              "      <td>57332.08896</td>\n",
              "    </tr>\n",
              "    <tr>\n",
              "      <th>15</th>\n",
              "      <td>Bitcoin</td>\n",
              "      <td>4/5/2021</td>\n",
              "      <td>4/5/2021</td>\n",
              "      <td>2197</td>\n",
              "      <td>58760.87326</td>\n",
              "      <td>59057.878970000005</td>\n",
              "    </tr>\n",
              "    <tr>\n",
              "      <th>16</th>\n",
              "      <td>Bitcoin</td>\n",
              "      <td>4/6/2021</td>\n",
              "      <td>4/6/2021</td>\n",
              "      <td>3730</td>\n",
              "      <td>59171.93202000001</td>\n",
              "      <td>58192.35868</td>\n",
              "    </tr>\n",
              "    <tr>\n",
              "      <th>17</th>\n",
              "      <td>Bitcoin</td>\n",
              "      <td>4/7/2021</td>\n",
              "      <td>4/7/2021</td>\n",
              "      <td>4039</td>\n",
              "      <td>58186.50852999999</td>\n",
              "      <td>56048.93781</td>\n",
              "    </tr>\n",
              "    <tr>\n",
              "      <th>18</th>\n",
              "      <td>Bitcoin</td>\n",
              "      <td>4/8/2021</td>\n",
              "      <td>4/8/2021</td>\n",
              "      <td>3740</td>\n",
              "      <td>56099.91311</td>\n",
              "      <td>58323.953579999994</td>\n",
              "    </tr>\n",
              "    <tr>\n",
              "      <th>19</th>\n",
              "      <td>Bitcoin</td>\n",
              "      <td>4/9/2021</td>\n",
              "      <td>4/9/2021</td>\n",
              "      <td>3475</td>\n",
              "      <td>58326.56362000001</td>\n",
              "      <td>58245.003</td>\n",
              "    </tr>\n",
              "    <tr>\n",
              "      <th>20</th>\n",
              "      <td>Bitcoin</td>\n",
              "      <td>4/10/2021</td>\n",
              "      <td>4/10/2021</td>\n",
              "      <td>4011</td>\n",
              "      <td>58253.77681</td>\n",
              "      <td>59793.23541</td>\n",
              "    </tr>\n",
              "    <tr>\n",
              "      <th>21</th>\n",
              "      <td>Bitcoin</td>\n",
              "      <td>4/11/2021</td>\n",
              "      <td>4/11/2021</td>\n",
              "      <td>2039</td>\n",
              "      <td>59846.230789999994</td>\n",
              "      <td>60204.96491</td>\n",
              "    </tr>\n",
              "    <tr>\n",
              "      <th>22</th>\n",
              "      <td>Bitcoin</td>\n",
              "      <td>4/12/2021</td>\n",
              "      <td>4/12/2021</td>\n",
              "      <td>1926</td>\n",
              "      <td>60175.944760000006</td>\n",
              "      <td>59893.45189</td>\n",
              "    </tr>\n",
              "    <tr>\n",
              "      <th>23</th>\n",
              "      <td>Bitcoin</td>\n",
              "      <td>4/17/2021</td>\n",
              "      <td>4/17/2021</td>\n",
              "      <td>333</td>\n",
              "      <td>61529.920999999995</td>\n",
              "      <td>60683.821229999994</td>\n",
              "    </tr>\n",
              "    <tr>\n",
              "      <th>24</th>\n",
              "      <td>Bitcoin</td>\n",
              "      <td>4/18/2021</td>\n",
              "      <td>4/18/2021</td>\n",
              "      <td>4708</td>\n",
              "      <td>60701.88609</td>\n",
              "      <td>56216.185</td>\n",
              "    </tr>\n",
              "    <tr>\n",
              "      <th>25</th>\n",
              "      <td>Bitcoin</td>\n",
              "      <td>4/19/2021</td>\n",
              "      <td>4/19/2021</td>\n",
              "      <td>4119</td>\n",
              "      <td>56191.58411</td>\n",
              "      <td>55724.2671</td>\n",
              "    </tr>\n",
              "    <tr>\n",
              "      <th>26</th>\n",
              "      <td>Bitcoin</td>\n",
              "      <td>4/20/2021</td>\n",
              "      <td>4/20/2021</td>\n",
              "      <td>4388</td>\n",
              "      <td>55681.79251</td>\n",
              "      <td>56473.03227999999</td>\n",
              "    </tr>\n",
              "    <tr>\n",
              "      <th>27</th>\n",
              "      <td>Bitcoin</td>\n",
              "      <td>4/21/2021</td>\n",
              "      <td>4/21/2021</td>\n",
              "      <td>4436</td>\n",
              "      <td>56471.127720000004</td>\n",
              "      <td>53906.08805</td>\n",
              "    </tr>\n",
              "    <tr>\n",
              "      <th>28</th>\n",
              "      <td>Bitcoin</td>\n",
              "      <td>4/22/2021</td>\n",
              "      <td>4/22/2021</td>\n",
              "      <td>5102</td>\n",
              "      <td>53857.106889999995</td>\n",
              "      <td>51762.27205</td>\n",
              "    </tr>\n",
              "    <tr>\n",
              "      <th>29</th>\n",
              "      <td>Bitcoin</td>\n",
              "      <td>4/23/2021</td>\n",
              "      <td>4/23/2021</td>\n",
              "      <td>5865</td>\n",
              "      <td>51739.80693</td>\n",
              "      <td>51093.65071</td>\n",
              "    </tr>\n",
              "    <tr>\n",
              "      <th>30</th>\n",
              "      <td>Bitcoin</td>\n",
              "      <td>4/24/2021</td>\n",
              "      <td>4/24/2021</td>\n",
              "      <td>3952</td>\n",
              "      <td>51143.22627</td>\n",
              "      <td>50050.86822</td>\n",
              "    </tr>\n",
              "    <tr>\n",
              "      <th>31</th>\n",
              "      <td>Bitcoin</td>\n",
              "      <td>5/25/2021</td>\n",
              "      <td>5/25/2021</td>\n",
              "      <td>2803</td>\n",
              "      <td>38795.78025</td>\n",
              "      <td>38402.22385</td>\n",
              "    </tr>\n",
              "    <tr>\n",
              "      <th>32</th>\n",
              "      <td>Bitcoin</td>\n",
              "      <td>5/26/2021</td>\n",
              "      <td>5/26/2021</td>\n",
              "      <td>4898</td>\n",
              "      <td>38392.623660000005</td>\n",
              "      <td>39294.19738</td>\n",
              "    </tr>\n",
              "    <tr>\n",
              "      <th>33</th>\n",
              "      <td>Bitcoin</td>\n",
              "      <td>5/27/2021</td>\n",
              "      <td>5/27/2021</td>\n",
              "      <td>4383</td>\n",
              "      <td>39316.88968</td>\n",
              "      <td>38436.968539999994</td>\n",
              "    </tr>\n",
              "    <tr>\n",
              "      <th>34</th>\n",
              "      <td>Bitcoin</td>\n",
              "      <td>5/28/2021</td>\n",
              "      <td>5/28/2021</td>\n",
              "      <td>5189</td>\n",
              "      <td>38507.083080000004</td>\n",
              "      <td>35697.60639</td>\n",
              "    </tr>\n",
              "    <tr>\n",
              "      <th>35</th>\n",
              "      <td>Bitcoin</td>\n",
              "      <td>5/29/2021</td>\n",
              "      <td>5/29/2021</td>\n",
              "      <td>4509</td>\n",
              "      <td>35684.15688</td>\n",
              "      <td>34616.068</td>\n",
              "    </tr>\n",
              "    <tr>\n",
              "      <th>36</th>\n",
              "      <td>Bitcoin</td>\n",
              "      <td>6/20/2021</td>\n",
              "      <td>6/20/2021</td>\n",
              "      <td>8868</td>\n",
              "      <td>35563.13941</td>\n",
              "      <td>35698.29644</td>\n",
              "    </tr>\n",
              "    <tr>\n",
              "      <th>37</th>\n",
              "      <td>Bitcoin</td>\n",
              "      <td>6/21/2021</td>\n",
              "      <td>6/21/2021</td>\n",
              "      <td>41729</td>\n",
              "      <td>35641.14606</td>\n",
              "      <td>31676.693730000003</td>\n",
              "    </tr>\n",
              "    <tr>\n",
              "      <th>38</th>\n",
              "      <td>Bitcoin</td>\n",
              "      <td>6/22/2021</td>\n",
              "      <td>6/22/2021</td>\n",
              "      <td>45840</td>\n",
              "      <td>31622.377089999998</td>\n",
              "      <td>32505.659819999997</td>\n",
              "    </tr>\n",
              "    <tr>\n",
              "      <th>39</th>\n",
              "      <td>Bitcoin</td>\n",
              "      <td>6/23/2021</td>\n",
              "      <td>6/23/2021</td>\n",
              "      <td>29358</td>\n",
              "      <td>32515.7143</td>\n",
              "      <td>33723.02898</td>\n",
              "    </tr>\n",
              "    <tr>\n",
              "      <th>40</th>\n",
              "      <td>Bitcoin</td>\n",
              "      <td>7/2/2021</td>\n",
              "      <td>7/2/2021</td>\n",
              "      <td>17789</td>\n",
              "      <td>33549.60018</td>\n",
              "      <td>33897.04859</td>\n",
              "    </tr>\n",
              "    <tr>\n",
              "      <th>41</th>\n",
              "      <td>Bitcoin</td>\n",
              "      <td>7/3/2021</td>\n",
              "      <td>7/3/2021</td>\n",
              "      <td>25430</td>\n",
              "      <td>33854.42136</td>\n",
              "      <td>34668.5484</td>\n",
              "    </tr>\n",
              "    <tr>\n",
              "      <th>42</th>\n",
              "      <td>Bitcoin</td>\n",
              "      <td>7/4/2021</td>\n",
              "      <td>7/4/2021</td>\n",
              "      <td>23087</td>\n",
              "      <td>34665.56487</td>\n",
              "      <td>35287.77977</td>\n",
              "    </tr>\n",
              "    <tr>\n",
              "      <th>43</th>\n",
              "      <td>Bitcoin</td>\n",
              "      <td>7/5/2021</td>\n",
              "      <td>7/5/2021</td>\n",
              "      <td>25981</td>\n",
              "      <td>35284.344430000005</td>\n",
              "      <td>33746.00246</td>\n",
              "    </tr>\n",
              "  </tbody>\n",
              "</table>\n",
              "</div>\n",
              "      <button class=\"colab-df-convert\" onclick=\"convertToInteractive('df-da237a3e-36fd-420a-bc7f-07fd22927385')\"\n",
              "              title=\"Convert this dataframe to an interactive table.\"\n",
              "              style=\"display:none;\">\n",
              "        \n",
              "  <svg xmlns=\"http://www.w3.org/2000/svg\" height=\"24px\"viewBox=\"0 0 24 24\"\n",
              "       width=\"24px\">\n",
              "    <path d=\"M0 0h24v24H0V0z\" fill=\"none\"/>\n",
              "    <path d=\"M18.56 5.44l.94 2.06.94-2.06 2.06-.94-2.06-.94-.94-2.06-.94 2.06-2.06.94zm-11 1L8.5 8.5l.94-2.06 2.06-.94-2.06-.94L8.5 2.5l-.94 2.06-2.06.94zm10 10l.94 2.06.94-2.06 2.06-.94-2.06-.94-.94-2.06-.94 2.06-2.06.94z\"/><path d=\"M17.41 7.96l-1.37-1.37c-.4-.4-.92-.59-1.43-.59-.52 0-1.04.2-1.43.59L10.3 9.45l-7.72 7.72c-.78.78-.78 2.05 0 2.83L4 21.41c.39.39.9.59 1.41.59.51 0 1.02-.2 1.41-.59l7.78-7.78 2.81-2.81c.8-.78.8-2.07 0-2.86zM5.41 20L4 18.59l7.72-7.72 1.47 1.35L5.41 20z\"/>\n",
              "  </svg>\n",
              "      </button>\n",
              "      \n",
              "  <style>\n",
              "    .colab-df-container {\n",
              "      display:flex;\n",
              "      flex-wrap:wrap;\n",
              "      gap: 12px;\n",
              "    }\n",
              "\n",
              "    .colab-df-convert {\n",
              "      background-color: #E8F0FE;\n",
              "      border: none;\n",
              "      border-radius: 50%;\n",
              "      cursor: pointer;\n",
              "      display: none;\n",
              "      fill: #1967D2;\n",
              "      height: 32px;\n",
              "      padding: 0 0 0 0;\n",
              "      width: 32px;\n",
              "    }\n",
              "\n",
              "    .colab-df-convert:hover {\n",
              "      background-color: #E2EBFA;\n",
              "      box-shadow: 0px 1px 2px rgba(60, 64, 67, 0.3), 0px 1px 3px 1px rgba(60, 64, 67, 0.15);\n",
              "      fill: #174EA6;\n",
              "    }\n",
              "\n",
              "    [theme=dark] .colab-df-convert {\n",
              "      background-color: #3B4455;\n",
              "      fill: #D2E3FC;\n",
              "    }\n",
              "\n",
              "    [theme=dark] .colab-df-convert:hover {\n",
              "      background-color: #434B5C;\n",
              "      box-shadow: 0px 1px 3px 1px rgba(0, 0, 0, 0.15);\n",
              "      filter: drop-shadow(0px 1px 2px rgba(0, 0, 0, 0.3));\n",
              "      fill: #FFFFFF;\n",
              "    }\n",
              "  </style>\n",
              "\n",
              "      <script>\n",
              "        const buttonEl =\n",
              "          document.querySelector('#df-da237a3e-36fd-420a-bc7f-07fd22927385 button.colab-df-convert');\n",
              "        buttonEl.style.display =\n",
              "          google.colab.kernel.accessAllowed ? 'block' : 'none';\n",
              "\n",
              "        async function convertToInteractive(key) {\n",
              "          const element = document.querySelector('#df-da237a3e-36fd-420a-bc7f-07fd22927385');\n",
              "          const dataTable =\n",
              "            await google.colab.kernel.invokeFunction('convertToInteractive',\n",
              "                                                     [key], {});\n",
              "          if (!dataTable) return;\n",
              "\n",
              "          const docLinkHtml = 'Like what you see? Visit the ' +\n",
              "            '<a target=\"_blank\" href=https://colab.research.google.com/notebooks/data_table.ipynb>data table notebook</a>'\n",
              "            + ' to learn more about interactive tables.';\n",
              "          element.innerHTML = '';\n",
              "          dataTable['output_type'] = 'display_data';\n",
              "          await google.colab.output.renderOutput(dataTable, element);\n",
              "          const docLink = document.createElement('div');\n",
              "          docLink.innerHTML = docLinkHtml;\n",
              "          element.appendChild(docLink);\n",
              "        }\n",
              "      </script>\n",
              "    </div>\n",
              "  </div>\n",
              "  "
            ],
            "text/plain": [
              "       Name Bitcoin_Date  ...                Open               Close\n",
              "0   Bitcoin     2/5/2021  ...         36931.54565  38144.306860000004\n",
              "1   Bitcoin     2/6/2021  ...         38138.38834         39266.01073\n",
              "2   Bitcoin     2/7/2021  ...         39250.19051         38903.44148\n",
              "3   Bitcoin     2/8/2021  ...         38886.82729         46196.46372\n",
              "4   Bitcoin     2/9/2021  ...         46184.99147         46481.10424\n",
              "5   Bitcoin    2/10/2021  ...          46469.7612         44918.18449\n",
              "6   Bitcoin    2/13/2021  ...  47491.202560000005         47105.51747\n",
              "7   Bitcoin    2/14/2021  ...  47114.509589999994         48717.29021\n",
              "8   Bitcoin    2/15/2021  ...  48696.536660000005         47945.05683\n",
              "9   Bitcoin    2/18/2021  ...         52140.97272  51679.796689999996\n",
              "10  Bitcoin    2/19/2021  ...  51675.981289999996   55888.13367999999\n",
              "11  Bitcoin    2/22/2021  ...  57532.738860000005  54207.319070000005\n",
              "12  Bitcoin    2/28/2021  ...         46194.01635  45137.770469999996\n",
              "13  Bitcoin    3/11/2021  ...  55963.180089999994   57805.12302000001\n",
              "14  Bitcoin    3/12/2021  ...         57821.21875         57332.08896\n",
              "15  Bitcoin     4/5/2021  ...         58760.87326  59057.878970000005\n",
              "16  Bitcoin     4/6/2021  ...   59171.93202000001         58192.35868\n",
              "17  Bitcoin     4/7/2021  ...   58186.50852999999         56048.93781\n",
              "18  Bitcoin     4/8/2021  ...         56099.91311  58323.953579999994\n",
              "19  Bitcoin     4/9/2021  ...   58326.56362000001           58245.003\n",
              "20  Bitcoin    4/10/2021  ...         58253.77681         59793.23541\n",
              "21  Bitcoin    4/11/2021  ...  59846.230789999994         60204.96491\n",
              "22  Bitcoin    4/12/2021  ...  60175.944760000006         59893.45189\n",
              "23  Bitcoin    4/17/2021  ...  61529.920999999995  60683.821229999994\n",
              "24  Bitcoin    4/18/2021  ...         60701.88609           56216.185\n",
              "25  Bitcoin    4/19/2021  ...         56191.58411          55724.2671\n",
              "26  Bitcoin    4/20/2021  ...         55681.79251   56473.03227999999\n",
              "27  Bitcoin    4/21/2021  ...  56471.127720000004         53906.08805\n",
              "28  Bitcoin    4/22/2021  ...  53857.106889999995         51762.27205\n",
              "29  Bitcoin    4/23/2021  ...         51739.80693         51093.65071\n",
              "30  Bitcoin    4/24/2021  ...         51143.22627         50050.86822\n",
              "31  Bitcoin    5/25/2021  ...         38795.78025         38402.22385\n",
              "32  Bitcoin    5/26/2021  ...  38392.623660000005         39294.19738\n",
              "33  Bitcoin    5/27/2021  ...         39316.88968  38436.968539999994\n",
              "34  Bitcoin    5/28/2021  ...  38507.083080000004         35697.60639\n",
              "35  Bitcoin    5/29/2021  ...         35684.15688           34616.068\n",
              "36  Bitcoin    6/20/2021  ...         35563.13941         35698.29644\n",
              "37  Bitcoin    6/21/2021  ...         35641.14606  31676.693730000003\n",
              "38  Bitcoin    6/22/2021  ...  31622.377089999998  32505.659819999997\n",
              "39  Bitcoin    6/23/2021  ...          32515.7143         33723.02898\n",
              "40  Bitcoin     7/2/2021  ...         33549.60018         33897.04859\n",
              "41  Bitcoin     7/3/2021  ...         33854.42136          34668.5484\n",
              "42  Bitcoin     7/4/2021  ...         34665.56487         35287.77977\n",
              "43  Bitcoin     7/5/2021  ...  35284.344430000005         33746.00246\n",
              "\n",
              "[44 rows x 6 columns]"
            ]
          },
          "metadata": {},
          "execution_count": 10
        }
      ]
    },
    {
      "cell_type": "markdown",
      "source": [
        "##Practice 3: Plot Graph"
      ],
      "metadata": {
        "id": "XfXwiFxCkHSc"
      }
    },
    {
      "cell_type": "markdown",
      "source": [
        "##Graph Nodes Edges"
      ],
      "metadata": {
        "id": "tW-yrWIkaFaA"
      }
    },
    {
      "cell_type": "code",
      "source": [
        "import numpy as np\n",
        "import networkx as nx\n",
        "from matplotlib import pyplot as plt\n",
        "import pandas as pd\n",
        "\n",
        "tweet_Bitcoin_name_date = pd.read_csv(\"date_tweet_user.csv\")\n",
        "G = nx.Graph()\n",
        "\n",
        "for index, row in tweet_Bitcoin_name_date.iterrows():\n",
        "  G.add_edge(row['user_name'], row['date'])\n",
        "plt.figure(figsize=(10,6))\n",
        "nx.draw(G)\n",
        "plt.savefig(\"Graph.pdf\", format=\"pdf\")\n",
        "plt.show()"
      ],
      "metadata": {
        "colab": {
          "base_uri": "https://localhost:8080/",
          "height": 463
        },
        "id": "zCfrTpOuaIVz",
        "outputId": "6376389b-117b-42db-89cd-0cb320df4a2f"
      },
      "execution_count": null,
      "outputs": [
        {
          "output_type": "display_data",
          "data": {
            "image/png": "[encoded data removed]",
            "text/plain": [
              "<Figure size 720x432 with 1 Axes>"
            ]
          },
          "metadata": {}
        }
      ]
    },
    {
      "cell_type": "markdown",
      "source": [
        "#Practice 4: igraph"
      ],
      "metadata": {
        "id": "sY92SYbpkNt8"
      }
    },
    {
      "cell_type": "markdown",
      "source": [
        "###date_tweet_user.csv"
      ],
      "metadata": {
        "id": "BEI0z9tar2cm"
      }
    },
    {
      "cell_type": "code",
      "source": [
        "import numpy as np\n",
        "P = np.zeros((11,11))"
      ],
      "metadata": {
        "id": "WalIx6x7sIar"
      },
      "execution_count": null,
      "outputs": []
    },
    {
      "cell_type": "code",
      "source": [
        "P[0][2]=1\n",
        "P[0][9]=1\n",
        "P[1][5]=1\n",
        "P[1][8]=1\n",
        "P[1][9]=1\n",
        "P[2][9]=1\n",
        "P[3][1]=1\n",
        "P[3][4]=1\n",
        "P[4][2]=1\n",
        "P[5][10]=1\n",
        "P[6][7]=1\n",
        "P[6][8]=1\n",
        "P[7][0]=1\n",
        "P[7][7]=1\n",
        "P[8][2]=1\n",
        "P[8][8]=1\n",
        "P[8][10]=1\n",
        "P[9][6]=1\n",
        "P[9][2]=1\n",
        "P[10][8]=1\n",
        "P[10][10]=1"
      ],
      "metadata": {
        "id": "uhvRjivmsrtG"
      },
      "execution_count": null,
      "outputs": []
    },
    {
      "cell_type": "code",
      "source": [
        "P"
      ],
      "metadata": {
        "colab": {
          "base_uri": "https://localhost:8080/"
        },
        "id": "iRY90frsursM",
        "outputId": "0f52a7ff-5f21-4124-cf83-d7f506fb0fb9"
      },
      "execution_count": null,
      "outputs": [
        {
          "output_type": "execute_result",
          "data": {
            "text/plain": [
              "array([[0., 0., 1., 0., 0., 0., 0., 0., 0., 1., 0.],\n",
              "       [0., 0., 0., 0., 0., 1., 0., 0., 1., 1., 0.],\n",
              "       [0., 0., 0., 0., 0., 0., 0., 0., 0., 1., 0.],\n",
              "       [0., 1., 0., 0., 1., 0., 0., 0., 0., 0., 0.],\n",
              "       [0., 0., 1., 0., 0., 0., 0., 0., 0., 0., 0.],\n",
              "       [0., 0., 0., 0., 0., 0., 0., 0., 0., 0., 1.],\n",
              "       [0., 0., 0., 0., 0., 0., 0., 1., 1., 0., 0.],\n",
              "       [1., 0., 0., 0., 0., 0., 0., 1., 0., 0., 0.],\n",
              "       [0., 0., 1., 0., 0., 0., 0., 0., 1., 0., 1.],\n",
              "       [0., 0., 1., 0., 0., 0., 1., 0., 0., 0., 0.],\n",
              "       [0., 0., 0., 0., 0., 0., 0., 0., 1., 0., 1.]])"
            ]
          },
          "metadata": {},
          "execution_count": 4
        }
      ]
    },
    {
      "cell_type": "code",
      "source": [
        "!pip install igraph"
      ],
      "metadata": {
        "colab": {
          "base_uri": "https://localhost:8080/"
        },
        "id": "Rdtfk11Ou1Ex",
        "outputId": "e1d70490-d5fe-4075-dabe-82b8aa5e4dca"
      },
      "execution_count": null,
      "outputs": [
        {
          "output_type": "stream",
          "name": "stdout",
          "text": [
            "Requirement already satisfied: igraph in /usr/local/lib/python3.7/dist-packages (0.9.8)\n",
            "Requirement already satisfied: texttable>=1.6.2 in /usr/local/lib/python3.7/dist-packages (from igraph) (1.6.4)\n"
          ]
        }
      ]
    },
    {
      "cell_type": "code",
      "source": [
        "!pip install --upgrade python-igraph"
      ],
      "metadata": {
        "colab": {
          "base_uri": "https://localhost:8080/"
        },
        "id": "kR435nTvot-6",
        "outputId": "37ff1bd6-4e07-47ec-ff13-dcc9e4d9d13a"
      },
      "execution_count": null,
      "outputs": [
        {
          "output_type": "stream",
          "name": "stdout",
          "text": [
            "Requirement already satisfied: python-igraph in /usr/local/lib/python3.7/dist-packages (0.9.8)\n",
            "Requirement already satisfied: igraph==0.9.8 in /usr/local/lib/python3.7/dist-packages (from python-igraph) (0.9.8)\n",
            "Requirement already satisfied: texttable>=1.6.2 in /usr/local/lib/python3.7/dist-packages (from igraph==0.9.8->python-igraph) (1.6.4)\n"
          ]
        }
      ]
    },
    {
      "cell_type": "markdown",
      "source": [
        "#IGraph"
      ],
      "metadata": {
        "id": "EAHeLfuqBzBf"
      }
    },
    {
      "cell_type": "code",
      "source": [
        "import numpy as np\n",
        "import networkx as nx\n",
        "from matplotlib import pyplot as plt\n",
        "import pandas as pd\n",
        "df_merge = pd.read_csv(\"df_merge.csv\")\n",
        "df_user_tweet = pd.read_csv(\"df_user_tweet.csv\")\n",
        "tweet_Bitcoin_name_date = pd.read_csv(\"tweet_Bitcoin_name_date.csv\")\n",
        "nodes = []\n",
        "date_ = tweet_Bitcoin_name_date['date']\n",
        "for col1 in date_.unique(): #Bitcoin_Date\n",
        "  nodes.append(col1)\n",
        "#print(len(nodes))\n",
        "\n",
        "user_ = tweet_Bitcoin_name_date['user_name']\n",
        "for col2 in user_.unique(): #user_name\n",
        "  nodes.append(col2)\n",
        "\n",
        "print('Nodes: ',len(nodes))\n",
        "\n",
        "print('Edges: ',len(tweet_Bitcoin_name_date))\n",
        "#nodes"
      ],
      "metadata": {
        "colab": {
          "base_uri": "https://localhost:8080/"
        },
        "id": "kYTTE88MPoWd",
        "outputId": "3333f16f-4e79-40f9-9521-12120ee1cfc1"
      },
      "execution_count": null,
      "outputs": [
        {
          "output_type": "stream",
          "name": "stdout",
          "text": [
            "Nodes:  199751\n",
            "Edges:  1048575\n"
          ]
        }
      ]
    },
    {
      "cell_type": "code",
      "source": [
        "import numpy as np\n",
        "import networkx as nx\n",
        "from matplotlib import pyplot as plt\n",
        "import pandas as pd\n",
        "\n",
        "tweet_Bitcoin_name_date = pd.read_csv(\"tweet_Bitcoin_name_date.csv\")\n",
        "df1 = pd.DataFrame(tweet_Bitcoin_name_date.iloc[1309:1315, :])\n",
        "df1\n",
        "\n",
        "df2 = pd.DataFrame(tweet_Bitcoin_name_date.iloc[4230:4235, :])\n",
        "df2\n",
        "\n",
        "df3 = pd.DataFrame(tweet_Bitcoin_name_date.iloc[65842:65848, :])\n",
        "df3\n",
        "\n",
        "df4 = pd.DataFrame(tweet_Bitcoin_name_date.iloc[117056:117061, :])\n",
        "df4\n",
        "\n",
        "\n",
        "df5 = pd.DataFrame(tweet_Bitcoin_name_date.iloc[80470:80477, :])\n",
        "df5\n",
        "\n",
        "result = pd.concat([df1, df2, df3, df4, df5], axis=0)\n",
        "print(len(result))\n",
        "result\n"
      ],
      "metadata": {
        "colab": {
          "base_uri": "https://localhost:8080/",
          "height": 976
        },
        "id": "rr0j-jj3ty_g",
        "outputId": "fcdac07c-fe4b-45b0-c915-4fafff769ee1"
      },
      "execution_count": null,
      "outputs": [
        {
          "output_type": "stream",
          "name": "stdout",
          "text": [
            "29\n"
          ]
        },
        {
          "output_type": "execute_result",
          "data": {
            "text/html": [
              "\n",
              "  <div id=\"df-bffb5fe6-ed96-45f2-971b-456c6d9f64bd\">\n",
              "    <div class=\"colab-df-container\">\n",
              "      <div>\n",
              "<style scoped>\n",
              "    .dataframe tbody tr th:only-of-type {\n",
              "        vertical-align: middle;\n",
              "    }\n",
              "\n",
              "    .dataframe tbody tr th {\n",
              "        vertical-align: top;\n",
              "    }\n",
              "\n",
              "    .dataframe thead th {\n",
              "        text-align: right;\n",
              "    }\n",
              "</style>\n",
              "<table border=\"1\" class=\"dataframe\">\n",
              "  <thead>\n",
              "    <tr style=\"text-align: right;\">\n",
              "      <th></th>\n",
              "      <th>date</th>\n",
              "      <th>user_name</th>\n",
              "    </tr>\n",
              "  </thead>\n",
              "  <tbody>\n",
              "    <tr>\n",
              "      <th>1309</th>\n",
              "      <td>2/10/2021</td>\n",
              "      <td>BittrexPrices</td>\n",
              "    </tr>\n",
              "    <tr>\n",
              "      <th>1310</th>\n",
              "      <td>2/10/2021</td>\n",
              "      <td>TheEricMatthews</td>\n",
              "    </tr>\n",
              "    <tr>\n",
              "      <th>1311</th>\n",
              "      <td>2/10/2021</td>\n",
              "      <td>STUDIO192.NL</td>\n",
              "    </tr>\n",
              "    <tr>\n",
              "      <th>1312</th>\n",
              "      <td>2/10/2021</td>\n",
              "      <td>igor</td>\n",
              "    </tr>\n",
              "    <tr>\n",
              "      <th>1313</th>\n",
              "      <td>2/10/2021</td>\n",
              "      <td>The Crypto Cheerleader 💎</td>\n",
              "    </tr>\n",
              "    <tr>\n",
              "      <th>1314</th>\n",
              "      <td>2/10/2021</td>\n",
              "      <td>Samir Azizi</td>\n",
              "    </tr>\n",
              "    <tr>\n",
              "      <th>4230</th>\n",
              "      <td>2/9/2021</td>\n",
              "      <td>Pychic readings by Andre</td>\n",
              "    </tr>\n",
              "    <tr>\n",
              "      <th>4231</th>\n",
              "      <td>2/9/2021</td>\n",
              "      <td>Kur Kaç Oldu?</td>\n",
              "    </tr>\n",
              "    <tr>\n",
              "      <th>4232</th>\n",
              "      <td>2/9/2021</td>\n",
              "      <td>Kur Ne Oldu</td>\n",
              "    </tr>\n",
              "    <tr>\n",
              "      <th>4233</th>\n",
              "      <td>2/9/2021</td>\n",
              "      <td>Coinstats</td>\n",
              "    </tr>\n",
              "    <tr>\n",
              "      <th>4234</th>\n",
              "      <td>2/9/2021</td>\n",
              "      <td>PiRoyot</td>\n",
              "    </tr>\n",
              "    <tr>\n",
              "      <th>65842</th>\n",
              "      <td>4/7/2021</td>\n",
              "      <td>Brian Harrington</td>\n",
              "    </tr>\n",
              "    <tr>\n",
              "      <th>65843</th>\n",
              "      <td>4/7/2021</td>\n",
              "      <td>JUSTICEFORIFUNANYA</td>\n",
              "    </tr>\n",
              "    <tr>\n",
              "      <th>65844</th>\n",
              "      <td>4/7/2021</td>\n",
              "      <td>Lencir #1</td>\n",
              "    </tr>\n",
              "    <tr>\n",
              "      <th>65845</th>\n",
              "      <td>4/7/2021</td>\n",
              "      <td>신류진</td>\n",
              "    </tr>\n",
              "    <tr>\n",
              "      <th>65846</th>\n",
              "      <td>4/7/2021</td>\n",
              "      <td>raniero11.</td>\n",
              "    </tr>\n",
              "    <tr>\n",
              "      <th>65847</th>\n",
              "      <td>4/7/2021</td>\n",
              "      <td>Expeditors</td>\n",
              "    </tr>\n",
              "    <tr>\n",
              "      <th>117056</th>\n",
              "      <td>5/27/2021</td>\n",
              "      <td>Slime</td>\n",
              "    </tr>\n",
              "    <tr>\n",
              "      <th>117057</th>\n",
              "      <td>5/27/2021</td>\n",
              "      <td>Lucid$ilver$tarLight</td>\n",
              "    </tr>\n",
              "    <tr>\n",
              "      <th>117058</th>\n",
              "      <td>5/27/2021</td>\n",
              "      <td>BTCMANAGER</td>\n",
              "    </tr>\n",
              "    <tr>\n",
              "      <th>117059</th>\n",
              "      <td>5/27/2021</td>\n",
              "      <td>Crypto News | CryptoNews.Exchange</td>\n",
              "    </tr>\n",
              "    <tr>\n",
              "      <th>117060</th>\n",
              "      <td>5/27/2021</td>\n",
              "      <td>DubaiTraderLLC</td>\n",
              "    </tr>\n",
              "    <tr>\n",
              "      <th>80470</th>\n",
              "      <td>4/23/2021</td>\n",
              "      <td>Bitcoin Runs; $KLV Sprints</td>\n",
              "    </tr>\n",
              "    <tr>\n",
              "      <th>80471</th>\n",
              "      <td>4/23/2021</td>\n",
              "      <td>steven</td>\n",
              "    </tr>\n",
              "    <tr>\n",
              "      <th>80472</th>\n",
              "      <td>4/23/2021</td>\n",
              "      <td>PhoenixCoin 🔥 $XRP</td>\n",
              "    </tr>\n",
              "    <tr>\n",
              "      <th>80473</th>\n",
              "      <td>4/23/2021</td>\n",
              "      <td>Earn Crypto</td>\n",
              "    </tr>\n",
              "    <tr>\n",
              "      <th>80474</th>\n",
              "      <td>4/23/2021</td>\n",
              "      <td>BitcoinTracker</td>\n",
              "    </tr>\n",
              "    <tr>\n",
              "      <th>80475</th>\n",
              "      <td>4/23/2021</td>\n",
              "      <td>ClankApp - Crypto Whales Tracker 🐳</td>\n",
              "    </tr>\n",
              "    <tr>\n",
              "      <th>80476</th>\n",
              "      <td>4/23/2021</td>\n",
              "      <td>CoinOK Crypto Exchange</td>\n",
              "    </tr>\n",
              "  </tbody>\n",
              "</table>\n",
              "</div>\n",
              "      <button class=\"colab-df-convert\" onclick=\"convertToInteractive('df-bffb5fe6-ed96-45f2-971b-456c6d9f64bd')\"\n",
              "              title=\"Convert this dataframe to an interactive table.\"\n",
              "              style=\"display:none;\">\n",
              "        \n",
              "  <svg xmlns=\"http://www.w3.org/2000/svg\" height=\"24px\"viewBox=\"0 0 24 24\"\n",
              "       width=\"24px\">\n",
              "    <path d=\"M0 0h24v24H0V0z\" fill=\"none\"/>\n",
              "    <path d=\"M18.56 5.44l.94 2.06.94-2.06 2.06-.94-2.06-.94-.94-2.06-.94 2.06-2.06.94zm-11 1L8.5 8.5l.94-2.06 2.06-.94-2.06-.94L8.5 2.5l-.94 2.06-2.06.94zm10 10l.94 2.06.94-2.06 2.06-.94-2.06-.94-.94-2.06-.94 2.06-2.06.94z\"/><path d=\"M17.41 7.96l-1.37-1.37c-.4-.4-.92-.59-1.43-.59-.52 0-1.04.2-1.43.59L10.3 9.45l-7.72 7.72c-.78.78-.78 2.05 0 2.83L4 21.41c.39.39.9.59 1.41.59.51 0 1.02-.2 1.41-.59l7.78-7.78 2.81-2.81c.8-.78.8-2.07 0-2.86zM5.41 20L4 18.59l7.72-7.72 1.47 1.35L5.41 20z\"/>\n",
              "  </svg>\n",
              "      </button>\n",
              "      \n",
              "  <style>\n",
              "    .colab-df-container {\n",
              "      display:flex;\n",
              "      flex-wrap:wrap;\n",
              "      gap: 12px;\n",
              "    }\n",
              "\n",
              "    .colab-df-convert {\n",
              "      background-color: #E8F0FE;\n",
              "      border: none;\n",
              "      border-radius: 50%;\n",
              "      cursor: pointer;\n",
              "      display: none;\n",
              "      fill: #1967D2;\n",
              "      height: 32px;\n",
              "      padding: 0 0 0 0;\n",
              "      width: 32px;\n",
              "    }\n",
              "\n",
              "    .colab-df-convert:hover {\n",
              "      background-color: #E2EBFA;\n",
              "      box-shadow: 0px 1px 2px rgba(60, 64, 67, 0.3), 0px 1px 3px 1px rgba(60, 64, 67, 0.15);\n",
              "      fill: #174EA6;\n",
              "    }\n",
              "\n",
              "    [theme=dark] .colab-df-convert {\n",
              "      background-color: #3B4455;\n",
              "      fill: #D2E3FC;\n",
              "    }\n",
              "\n",
              "    [theme=dark] .colab-df-convert:hover {\n",
              "      background-color: #434B5C;\n",
              "      box-shadow: 0px 1px 3px 1px rgba(0, 0, 0, 0.15);\n",
              "      filter: drop-shadow(0px 1px 2px rgba(0, 0, 0, 0.3));\n",
              "      fill: #FFFFFF;\n",
              "    }\n",
              "  </style>\n",
              "\n",
              "      <script>\n",
              "        const buttonEl =\n",
              "          document.querySelector('#df-bffb5fe6-ed96-45f2-971b-456c6d9f64bd button.colab-df-convert');\n",
              "        buttonEl.style.display =\n",
              "          google.colab.kernel.accessAllowed ? 'block' : 'none';\n",
              "\n",
              "        async function convertToInteractive(key) {\n",
              "          const element = document.querySelector('#df-bffb5fe6-ed96-45f2-971b-456c6d9f64bd');\n",
              "          const dataTable =\n",
              "            await google.colab.kernel.invokeFunction('convertToInteractive',\n",
              "                                                     [key], {});\n",
              "          if (!dataTable) return;\n",
              "\n",
              "          const docLinkHtml = 'Like what you see? Visit the ' +\n",
              "            '<a target=\"_blank\" href=https://colab.research.google.com/notebooks/data_table.ipynb>data table notebook</a>'\n",
              "            + ' to learn more about interactive tables.';\n",
              "          element.innerHTML = '';\n",
              "          dataTable['output_type'] = 'display_data';\n",
              "          await google.colab.output.renderOutput(dataTable, element);\n",
              "          const docLink = document.createElement('div');\n",
              "          docLink.innerHTML = docLinkHtml;\n",
              "          element.appendChild(docLink);\n",
              "        }\n",
              "      </script>\n",
              "    </div>\n",
              "  </div>\n",
              "  "
            ],
            "text/plain": [
              "             date                           user_name\n",
              "1309    2/10/2021                       BittrexPrices\n",
              "1310    2/10/2021                     TheEricMatthews\n",
              "1311    2/10/2021                        STUDIO192.NL\n",
              "1312    2/10/2021                                igor\n",
              "1313    2/10/2021            The Crypto Cheerleader 💎\n",
              "1314    2/10/2021                         Samir Azizi\n",
              "4230     2/9/2021            Pychic readings by Andre\n",
              "4231     2/9/2021                       Kur Kaç Oldu?\n",
              "4232     2/9/2021                         Kur Ne Oldu\n",
              "4233     2/9/2021                           Coinstats\n",
              "4234     2/9/2021                             PiRoyot\n",
              "65842    4/7/2021                    Brian Harrington\n",
              "65843    4/7/2021                  JUSTICEFORIFUNANYA\n",
              "65844    4/7/2021                           Lencir #1\n",
              "65845    4/7/2021                                 신류진\n",
              "65846    4/7/2021                          raniero11.\n",
              "65847    4/7/2021                          Expeditors\n",
              "117056  5/27/2021                               Slime\n",
              "117057  5/27/2021                Lucid$ilver$tarLight\n",
              "117058  5/27/2021                          BTCMANAGER\n",
              "117059  5/27/2021   Crypto News | CryptoNews.Exchange\n",
              "117060  5/27/2021                      DubaiTraderLLC\n",
              "80470   4/23/2021          Bitcoin Runs; $KLV Sprints\n",
              "80471   4/23/2021                              steven\n",
              "80472   4/23/2021                  PhoenixCoin 🔥 $XRP\n",
              "80473   4/23/2021                         Earn Crypto\n",
              "80474   4/23/2021                      BitcoinTracker\n",
              "80475   4/23/2021  ClankApp - Crypto Whales Tracker 🐳\n",
              "80476   4/23/2021              CoinOK Crypto Exchange"
            ]
          },
          "metadata": {},
          "execution_count": 47
        }
      ]
    },
    {
      "cell_type": "code",
      "source": [
        "nodes_G = []\n",
        "date_ = result['date']\n",
        "for col1 in date_.unique(): #Bitcoin_Date\n",
        "  nodes_G.append(col1)\n",
        "#print(len(nodes))\n",
        "\n",
        "user_ = result['user_name']\n",
        "for col2 in user_.unique(): #user_name\n",
        "  nodes_G.append(col2)\n",
        "\n",
        "len_nodes =len(nodes_G)\n",
        "GP = np.zeros(( len_nodes,len_nodes))\n",
        "df = pd.DataFrame(result.iloc[:28])\n",
        "\n",
        "for  index3, row3 in  df.iterrows():\n",
        "  i=nodes_G.index(row3['date'])\n",
        "  #print(i)\n",
        "  j=nodes_G.index(row3['user_name'])\n",
        "  #print(j)\n",
        "  GP[i][j] = 1"
      ],
      "metadata": {
        "id": "-FSd9BH8SSrf"
      },
      "execution_count": null,
      "outputs": []
    },
    {
      "cell_type": "code",
      "source": [
        "GP"
      ],
      "metadata": {
        "colab": {
          "base_uri": "https://localhost:8080/"
        },
        "id": "ATMJi9xPeF_m",
        "outputId": "3d193704-c4af-499a-9b84-2e0c4975dd39"
      },
      "execution_count": null,
      "outputs": [
        {
          "output_type": "execute_result",
          "data": {
            "text/plain": [
              "array([[0., 0., 0., ..., 0., 0., 0.],\n",
              "       [0., 0., 0., ..., 0., 0., 0.],\n",
              "       [0., 0., 0., ..., 0., 0., 0.],\n",
              "       ...,\n",
              "       [0., 0., 0., ..., 0., 0., 0.],\n",
              "       [0., 0., 0., ..., 0., 0., 0.],\n",
              "       [0., 0., 0., ..., 0., 0., 0.]])"
            ]
          },
          "metadata": {},
          "execution_count": 40
        }
      ]
    },
    {
      "cell_type": "markdown",
      "source": [
        "#Practice 6: Scatter Plot"
      ],
      "metadata": {
        "id": "zvpQScfvwoDc"
      }
    },
    {
      "cell_type": "code",
      "source": [
        "!pip install --upgrade python-igraph"
      ],
      "metadata": {
        "colab": {
          "base_uri": "https://localhost:8080/"
        },
        "id": "jiFkbleVskuN",
        "outputId": "a86da9eb-cdec-4bbf-8107-d20415b501ed"
      },
      "execution_count": null,
      "outputs": [
        {
          "output_type": "stream",
          "name": "stdout",
          "text": [
            "Collecting python-igraph\n",
            "  Downloading python-igraph-0.9.8.tar.gz (9.5 kB)\n",
            "Collecting igraph==0.9.8\n",
            "  Downloading igraph-0.9.8-cp37-cp37m-manylinux_2_12_x86_64.manylinux2010_x86_64.whl (3.2 MB)\n",
            "\u001b[K     |████████████████████████████████| 3.2 MB 5.3 MB/s \n",
            "\u001b[?25hCollecting texttable>=1.6.2\n",
            "  Downloading texttable-1.6.4-py2.py3-none-any.whl (10 kB)\n",
            "Building wheels for collected packages: python-igraph\n",
            "  Building wheel for python-igraph (setup.py) ... \u001b[?25l\u001b[?25hdone\n",
            "  Created wheel for python-igraph: filename=python_igraph-0.9.8-py3-none-any.whl size=9070 sha256=2500351c6d9012955daac443950c617a21a4e2e80a0893419a364d917e143960\n",
            "  Stored in directory: /root/.cache/pip/wheels/15/86/ef/b8bcdfbcb1c489771ad256c7cd1eb4971cdb7f3f670938b798\n",
            "Successfully built python-igraph\n",
            "Installing collected packages: texttable, igraph, python-igraph\n",
            "Successfully installed igraph-0.9.8 python-igraph-0.9.8 texttable-1.6.4\n"
          ]
        }
      ]
    },
    {
      "cell_type": "code",
      "source": [
        "from matplotlib.pyplot import figure\n",
        "import matplotlib.pyplot as plt\n",
        "import igraph\n",
        "g = igraph.Graph.Adjacency(GP, mode='undirected', weighted=True)\n",
        "fig  = figure(figsize=(2, 2), dpi=10000)\n",
        "fig, ax = plt.subplots()\n",
        "igraph.plot(g, target=ax)"
      ],
      "metadata": {
        "colab": {
          "base_uri": "https://localhost:8080/",
          "height": 283
        },
        "id": "9lxIE2yosgHN",
        "outputId": "d86b9e25-d433-4bcd-de93-20d219b97a81"
      },
      "execution_count": null,
      "outputs": [
        {
          "output_type": "display_data",
          "data": {
            "text/plain": [
              "<Figure size 20000x20000 with 0 Axes>"
            ]
          },
          "metadata": {}
        },
        {
          "output_type": "display_data",
          "data": {
            "image/png": "[encoded data removed]",
            "text/plain": [
              "<Figure size 432x288 with 1 Axes>"
            ]
          },
          "metadata": {
            "needs_background": "light"
          }
        }
      ]
    },
    {
      "cell_type": "code",
      "source": [
        "from igraph import *\n",
        "from matplotlib import pyplot as plot\n",
        "\n",
        "i = g.community_infomap()\n",
        "pal = igraph.drawing.colors.ClusterColoringPalette(len(i))\n",
        "g.vs['color'] = pal.get_many(i.membership)\n",
        "g.vs['name'] = nodes\n",
        "fig  = figure(figsize=(2, 2), dpi=10000)\n",
        "fig, ax = plt.subplots()\n",
        "igraph.plot(g, target=ax, vertex_color = g.vs['color'], vertex_label =g.vs['name'])"
      ],
      "metadata": {
        "colab": {
          "base_uri": "https://localhost:8080/",
          "height": 283
        },
        "id": "RCXcJ6SYsago",
        "outputId": "bf4ec251-3273-4e2b-94f0-87a0bb514aca"
      },
      "execution_count": null,
      "outputs": [
        {
          "output_type": "display_data",
          "data": {
            "text/plain": [
              "<Figure size 20000x20000 with 0 Axes>"
            ]
          },
          "metadata": {}
        },
        {
          "output_type": "display_data",
          "data": {
            "image/png": "[encoded data removed]",
            "text/plain": [
              "<Figure size 432x288 with 1 Axes>"
            ]
          },
          "metadata": {
            "needs_background": "light"
          }
        }
      ]
    },
    {
      "cell_type": "markdown",
      "source": [
        "#Community"
      ],
      "metadata": {
        "id": "xsT-mlcJ0ywM"
      }
    },
    {
      "cell_type": "code",
      "source": [
        "import community\n",
        "import networkx.algorithms.community as nx_comm\n",
        "import community.community_louvain as community_louvain\n",
        "import networkx as nx\n",
        "community =g.community_multilevel()\n",
        "print('community.membership: ',community.membership)\n",
        "print('community.modularity: ', community.modularity)\n",
        "print('community.size_histogram(): ',community.size_histogram())\n",
        "print('community.summary(): ',community.summary())"
      ],
      "metadata": {
        "colab": {
          "base_uri": "https://localhost:8080/"
        },
        "id": "CyNVchDB00N_",
        "outputId": "3d8588fc-d257-45e1-f24b-1729470a6ae6"
      },
      "execution_count": null,
      "outputs": [
        {
          "output_type": "stream",
          "name": "stdout",
          "text": [
            "community.membership:  [0, 1, 2, 3, 4, 0, 0, 0, 0, 1, 1, 1, 1, 1, 1, 2, 2, 2, 2, 2, 2, 3, 3, 3, 3, 3, 4, 4, 4, 4, 4, 4, 4]\n",
            "community.modularity:  0.7933673469387755\n",
            "community.size_histogram():  N = 5, mean +- sd: 6.6000 +- 1.1402\n",
            "[5, 6): * (1)\n",
            "[6, 7): * (1)\n",
            "[7, 8): ** (2)\n",
            "[8, 9): * (1)\n",
            "community.summary():  Clustering with 33 elements and 5 clusters\n"
          ]
        }
      ]
    },
    {
      "cell_type": "markdown",
      "source": [
        "#Centrality"
      ],
      "metadata": {
        "id": "EL_63tzw0iIr"
      }
    },
    {
      "cell_type": "code",
      "source": [
        "estimate = g.betweenness(vertices=None, directed=True, cutoff=2)\n",
        "print( 'Betweenness computation complete.'  )\n",
        "\n",
        "outcsv = csv.writer(open('centrality.csv', 'wb'))\n",
        "\n",
        "for v in graph.vs():\n",
        "   outcsv.writerow([v, estimate[vs]])"
      ],
      "metadata": {
        "id": "obs7ymld0jsg"
      },
      "execution_count": null,
      "outputs": []
    },
    {
      "cell_type": "code",
      "source": [
        "from matplotlib.pyplot import figure\n",
        "import matplotlib.pyplot as plt\n",
        "import igraph\n",
        "g = igraph.Graph.Adjacency(GP)\n",
        "fig  = figure(figsize=(2, 2), dpi=10000)\n",
        "fig, ax = plt.subplots()\n",
        "igraph.plot(g, target=ax)"
      ],
      "metadata": {
        "colab": {
          "base_uri": "https://localhost:8080/",
          "height": 282
        },
        "id": "pdNRgIFajCIS",
        "outputId": "bbd124de-65be-43a1-9eb5-5d2cd1472f35"
      },
      "execution_count": null,
      "outputs": [
        {
          "output_type": "display_data",
          "data": {
            "text/plain": [
              "<Figure size 20000x20000 with 0 Axes>"
            ]
          },
          "metadata": {}
        },
        {
          "output_type": "display_data",
          "data": {
            "image/png": "[encoded data removed]",
            "text/plain": [
              "<Figure size 432x288 with 1 Axes>"
            ]
          },
          "metadata": {
            "needs_background": "light"
          }
        }
      ]
    },
    {
      "cell_type": "code",
      "source": [
        "G = nx.Graph(P)\n",
        "nx.draw_networkx(G)"
      ],
      "metadata": {
        "colab": {
          "base_uri": "https://localhost:8080/",
          "height": 248
        },
        "id": "LEtujmH_wBKb",
        "outputId": "ebe286ca-eaa2-428c-c286-4d835df56b1e"
      },
      "execution_count": null,
      "outputs": [
        {
          "output_type": "display_data",
          "data": {
            "image/png": "[encoded data removed]",
            "text/plain": [
              "<Figure size 432x288 with 1 Axes>"
            ]
          },
          "metadata": {}
        }
      ]
    },
    {
      "cell_type": "code",
      "source": [
        "Result= nx.degree_centrality(G)"
      ],
      "metadata": {
        "id": "uXHeyUdywx5Z"
      },
      "execution_count": null,
      "outputs": []
    },
    {
      "cell_type": "code",
      "source": [
        "print(Result)"
      ],
      "metadata": {
        "colab": {
          "base_uri": "https://localhost:8080/"
        },
        "id": "VNYJtLLFw89y",
        "outputId": "82decd9f-7dc6-4581-8300-31d090ad4989"
      },
      "execution_count": null,
      "outputs": [
        {
          "output_type": "stream",
          "name": "stdout",
          "text": [
            "{0: 0.30000000000000004, 1: 0.4, 2: 0.4, 3: 0.2, 4: 0.2, 5: 0.2, 6: 0.30000000000000004, 7: 0.4, 8: 0.6000000000000001, 9: 0.4, 10: 0.4}\n"
          ]
        }
      ]
    },
    {
      "cell_type": "code",
      "source": [
        "g = igraph.Graph.Adjacency(P)"
      ],
      "metadata": {
        "id": "jUhUwAAmxOpz"
      },
      "execution_count": null,
      "outputs": []
    },
    {
      "cell_type": "markdown",
      "source": [
        "#Practice 5: Number of Nodes and Edges"
      ],
      "metadata": {
        "id": "xwa68Ji_mKqe"
      }
    },
    {
      "cell_type": "code",
      "source": [
        "import numpy as np\n",
        "import networkx as nx\n",
        "from matplotlib import pyplot as plt\n",
        "import pandas as pd\n",
        "\n",
        "df_merge = pd.read_csv(\"df_merge.csv\")\n",
        "df_user_tweet = pd.read_csv(\"df_user_tweet.csv\")\n",
        "tweet_Bitcoin_name_date = pd.read_csv(\"tweet_Bitcoin_name_date.csv\")\n",
        "G = nx.Graph()\n",
        "\n",
        "for index, row in df_merge.iterrows():\n",
        "  # To add a node, date\n",
        "  G.add_node(row['Bitcoin_Date'])\n",
        "\n",
        "for index2, row2 in df_user_tweet.iterrows():\n",
        "  # To add a node, tweet\n",
        "  G.add_node(row2['user_name'])\n",
        "\n",
        "for index3, row3 in tweet_Bitcoin_name_date.iterrows():\n",
        "  G.add_edge(row3['date'], row3['user_name'])\n",
        "\n",
        "print(G)"
      ],
      "metadata": {
        "colab": {
          "base_uri": "https://localhost:8080/"
        },
        "id": "l98P3NDSmSFZ",
        "outputId": "9bca3c18-784d-4a57-8edb-9e1fc6c8fbfd"
      },
      "execution_count": null,
      "outputs": [
        {
          "output_type": "stream",
          "name": "stdout",
          "text": [
            "Graph with 199763 nodes and 494872 edges\n"
          ]
        }
      ]
    },
    {
      "cell_type": "markdown",
      "source": [
        "#Practice 8:community_detection"
      ],
      "metadata": {
        "id": "fZZ66GO_wDVb"
      }
    },
    {
      "cell_type": "markdown",
      "source": [
        "###Algorithm Girwan Newman"
      ],
      "metadata": {
        "id": "fYeG9onhyyje"
      }
    },
    {
      "cell_type": "code",
      "source": [
        "import matplotlib.pyplot as plt\n",
        "import networkx as nx\n",
        "from networkx.algorithms.community.centrality import girvan_newman"
      ],
      "metadata": {
        "id": "iVcrZziEy1cV"
      },
      "execution_count": null,
      "outputs": []
    },
    {
      "cell_type": "markdown",
      "source": [
        "###1- Communities Detection by networkx - girvan_newman"
      ],
      "metadata": {
        "id": "HK4dxRJdy3eb"
      }
    },
    {
      "cell_type": "code",
      "source": [
        "!pip install arabic-reshaper"
      ],
      "metadata": {
        "colab": {
          "base_uri": "https://localhost:8080/"
        },
        "id": "su31FW_FzAc7",
        "outputId": "b09c9af9-a36e-4b8a-a853-29e195e535a5"
      },
      "execution_count": null,
      "outputs": [
        {
          "output_type": "stream",
          "name": "stdout",
          "text": [
            "Collecting arabic-reshaper\n",
            "  Downloading arabic_reshaper-2.1.3-py3-none-any.whl (20 kB)\n",
            "Requirement already satisfied: future in /usr/local/lib/python3.7/dist-packages (from arabic-reshaper) (0.16.0)\n",
            "Requirement already satisfied: setuptools in /usr/local/lib/python3.7/dist-packages (from arabic-reshaper) (57.4.0)\n",
            "Installing collected packages: arabic-reshaper\n",
            "Successfully installed arabic-reshaper-2.1.3\n"
          ]
        }
      ]
    },
    {
      "cell_type": "code",
      "source": [
        "!pip install python-bidi"
      ],
      "metadata": {
        "colab": {
          "base_uri": "https://localhost:8080/"
        },
        "id": "ZkVs3drfzB2N",
        "outputId": "23de4069-56ff-4f5d-ecbc-9462837767c2"
      },
      "execution_count": null,
      "outputs": [
        {
          "output_type": "stream",
          "name": "stdout",
          "text": [
            "Collecting python-bidi\n",
            "  Downloading python_bidi-0.4.2-py2.py3-none-any.whl (30 kB)\n",
            "Requirement already satisfied: six in /usr/local/lib/python3.7/dist-packages (from python-bidi) (1.15.0)\n",
            "Installing collected packages: python-bidi\n",
            "Successfully installed python-bidi-0.4.2\n"
          ]
        }
      ]
    },
    {
      "cell_type": "code",
      "source": [
        "from bidi.algorithm import get_display\n",
        "from arabic_reshaper import reshape\n",
        "\n",
        "communities = girvan_newman(G)\n",
        "node_groups = []\n",
        "for com in next(communities):\n",
        "  node_groups.append(list(com))\n",
        "\n",
        "print(len(node_groups))\n",
        "\n",
        "color_map = []\n",
        "for node in G:\n",
        "    if node in node_groups[0]:\n",
        "        color_map.append('blue')\n",
        "    elif node in node_groups[1]:\n",
        "        color_map.append('green')\n",
        "    elif node in node_groups[2]:\n",
        "      color_map.append('red')\n",
        "    elif node in node_groups[3]:\n",
        "      color_map.append('yellow')\n",
        "\n",
        "\n",
        "reshaped_text_a = reshape(u'Whale')\n",
        "a = get_display(reshaped_text_a)\n",
        "\n",
        "reshaped_text_b = reshape(u'Crypto Squawk')\n",
        "b = get_display(reshaped_text_b)\n",
        "\n",
        "reshaped_text_c = reshape(u'Brett Murphy')\n",
        "c = get_display(reshaped_text_c)\n",
        "\n",
        "reshaped_text_d = reshape(u'Crypto Cartel')\n",
        "d = get_display(reshaped_text_d)\n",
        "\n",
        "reshaped_text_e = reshape(u'Smokyho')\n",
        "e = get_display(reshaped_text_e)\n",
        "\n",
        "reshaped_text_f = reshape(u'WA State')\n",
        "f = get_display(reshaped_text_f)\n",
        "\n",
        "reshaped_text_g = reshape(u'Susan Hillary')\n",
        "g = get_display(reshaped_text_g)\n",
        "\n",
        "reshaped_text_h = reshape(u'Kush Jain')\n",
        "h = get_display(reshaped_text_h)\n",
        "\n",
        "reshaped_text_i = reshape(u'Bitcoin Mate')\n",
        "i = get_display(reshaped_text_i)\n",
        "\n",
        "reshaped_text_j = reshape(u'Bitcoin Price')\n",
        "j = get_display(reshaped_text_j)\n",
        "\n",
        "reshaped_text_k = reshape(u'Web Analysis')\n",
        "k = get_display(reshaped_text_k)\n",
        "\n",
        "\n",
        "mapping =   {0: a,   1:b , 2:c, 3:d, 4:e, 5:f, 6:g, 7:h, 8:i, 9:j, 10:k }\n",
        "\n",
        "pos = nx.spring_layout(G, k=1.5, iterations=100)\n",
        "#G = nx.relabel_nodes(G, mapping, copy=False)\n",
        "nx.draw(G,pos, node_color=color_map,node_size=500, with_labels=True)\n",
        "plt.savefig(\"Graph.png\", format=\"PNG\")\n",
        "plt.show()"
      ],
      "metadata": {
        "id": "CjJPHzbqzHd0"
      },
      "execution_count": null,
      "outputs": []
    },
    {
      "cell_type": "code",
      "source": [
        "import igraph\n",
        "import matplotlib.pyplot as plt\n",
        "# load data into a graph\n",
        "g = igraph.Graph.Read_Ncol('network.txt')\n",
        "\n",
        "# plot graph\n",
        "#fig  = figure(figsize=(2, 2), dpi=10000)\n",
        "\n",
        "fig, ax = plt.subplots()\n",
        "igraph.plot(g, target=ax)"
      ],
      "metadata": {
        "colab": {
          "base_uri": "https://localhost:8080/",
          "height": 268
        },
        "id": "XleS5acs2TEf",
        "outputId": "89e89d1f-a57d-4aa3-d6e6-40c0d8da1b93"
      },
      "execution_count": null,
      "outputs": [
        {
          "output_type": "display_data",
          "data": {
            "image/png": "[encoded data removed]",
            "text/plain": [
              "<Figure size 432x288 with 1 Axes>"
            ]
          },
          "metadata": {
            "needs_background": "light"
          }
        }
      ]
    },
    {
      "cell_type": "code",
      "source": [
        "# identify communities\n",
        "communities = igraph.community_edge_betweenness()\n",
        "\n",
        "# not really sure what to do next\n",
        "num_communities = communities.optimal_count\n",
        "communities.as_clustering(num_communities)"
      ],
      "metadata": {
        "id": "VP4FMgYV3Mtu"
      },
      "execution_count": null,
      "outputs": []
    },
    {
      "cell_type": "markdown",
      "source": [
        "###Modularity"
      ],
      "metadata": {
        "id": "mCixQddo0lBv"
      }
    },
    {
      "cell_type": "code",
      "source": [
        "import community\n",
        "import networkx.algorithms.community as nx_comm\n",
        "import community.community_louvain as community_louvain\n",
        "import networkx as nx\n",
        "community =g.community_multilevel()"
      ],
      "metadata": {
        "id": "XR4SWTxn3QgZ"
      },
      "execution_count": null,
      "outputs": []
    },
    {
      "cell_type": "markdown",
      "source": [
        "###IGraph Communities Detection"
      ],
      "metadata": {
        "id": "meDKZMjq1Jz9"
      }
    },
    {
      "cell_type": "code",
      "source": [
        "# identify communities\n",
        "communities = igraph.community_edge_betweenness()\n",
        "\n",
        "# not really sure what to do next\n",
        "num_communities = communities.optimal_count\n",
        "communities.as_clustering(num_communities)"
      ],
      "metadata": {
        "id": "kd9USGIe1LwT"
      },
      "execution_count": null,
      "outputs": []
    },
    {
      "cell_type": "markdown",
      "source": [
        "###Compare - By dendrogram"
      ],
      "metadata": {
        "id": "tfvBmrt51NNV"
      }
    },
    {
      "cell_type": "code",
      "source": [
        "# calculate dendrogram\n",
        "dendrogram = igraph.community_edge_betweenness()\n",
        "# convert it into a flat clustering\n",
        "clusters = dendrogram.as_clustering()\n",
        "# get the membership vector\n",
        "membership = clusters.membership"
      ],
      "metadata": {
        "id": "C4cjDR6x1PNe"
      },
      "execution_count": null,
      "outputs": []
    }
  ]
}